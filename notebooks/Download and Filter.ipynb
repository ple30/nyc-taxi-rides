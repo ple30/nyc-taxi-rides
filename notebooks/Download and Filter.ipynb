{
 "cells": [
  {
   "cell_type": "markdown",
   "metadata": {},
   "source": [
    "> ## Download data and Schema integration"
   ]
  },
  {
   "cell_type": "markdown",
   "metadata": {},
   "source": [
    "We will download the TLC Yellow Taxi Trips Record from Dec 2022 to May 2023 for training set.\n",
    "For the test set, we will randomly choose 30 days between Jan 2024 and March 2024 from the TLC Yellow Taxi Trips Record"
   ]
  },
  {
   "cell_type": "markdown",
   "metadata": {},
   "source": [
    "Then we will perform schema integration and filter columns' features. Finally save the cleaned training and testing set in the Curated layer"
   ]
  },
  {
   "cell_type": "markdown",
   "metadata": {},
   "source": [
    "> Import libraries and functions"
   ]
  },
  {
   "cell_type": "code",
   "execution_count": 1,
   "metadata": {},
   "outputs": [],
   "source": [
    "%run ../scripts/'download fix schema.py'\n",
    "%run ../scripts/'preprocess.py'\n",
    "%run ../scripts/'visualisation.py'\n",
    "from pyspark.sql import SparkSession, functions as F\n",
    "from pyspark.sql.functions import log\n",
    "import random\n",
    "import numpy as np\n"
   ]
  },
  {
   "cell_type": "markdown",
   "metadata": {},
   "source": [
    "> Download training and testing dataset"
   ]
  },
  {
   "cell_type": "code",
   "execution_count": 7,
   "metadata": {},
   "outputs": [
    {
     "name": "stdout",
     "output_type": "stream",
     "text": [
      "Begin month 12\n",
      "Completed month 12\n",
      "Begin month 01\n",
      "Completed month 01\n",
      "Begin month 02\n",
      "Completed month 02\n",
      "Begin month 03\n",
      "Completed month 03\n",
      "Begin month 04\n",
      "Completed month 04\n",
      "Begin month 05\n",
      "Completed month 05\n"
     ]
    }
   ],
   "source": [
    "# Download training dataset from Dec 2022 to May 2023\n",
    "train_date = {'2022':[12], '2023':[1,2,3,4,5]}\n",
    "download_taxi('train_set', train_date)  # function from download fix schema.py"
   ]
  },
  {
   "cell_type": "markdown",
   "metadata": {},
   "source": [
    "<div class=\"alert alert-block alert-info\">\n",
    "    <b>Note: We will download the set from Jan 2024 to March 2024 but later on will randomly choose 30 days from these three months for testing data </b>\n",
    "</div>"
   ]
  },
  {
   "cell_type": "code",
   "execution_count": 4,
   "metadata": {},
   "outputs": [
    {
     "name": "stdout",
     "output_type": "stream",
     "text": [
      "Begin month 01\n",
      "Completed month 01\n",
      "Begin month 02\n",
      "Completed month 02\n",
      "Begin month 03\n",
      "Completed month 03\n"
     ]
    }
   ],
   "source": [
    "# Download testing dataset from Jan 2024 to March 2024\n",
    "test_date = {'2024':[1,2,3]}\n",
    "download_taxi('test_set', test_date)"
   ]
  },
  {
   "cell_type": "code",
   "execution_count": 2,
   "metadata": {},
   "outputs": [
    {
     "name": "stderr",
     "output_type": "stream",
     "text": [
      "your 131072x1 screen size is bogus. expect trouble\n",
      "24/08/25 20:56:13 WARN Utils: Your hostname, LAPTOP-LVDQD9N6 resolves to a loopback address: 127.0.1.1; using 10.255.255.254 instead (on interface lo)\n",
      "24/08/25 20:56:13 WARN Utils: Set SPARK_LOCAL_IP if you need to bind to another address\n",
      "Setting default log level to \"WARN\".\n",
      "To adjust logging level use sc.setLogLevel(newLevel). For SparkR, use setLogLevel(newLevel).\n",
      "24/08/25 20:56:14 WARN NativeCodeLoader: Unable to load native-hadoop library for your platform... using builtin-java classes where applicable\n",
      "24/08/25 20:56:15 WARN Utils: Service 'SparkUI' could not bind on port 4040. Attempting port 4041.\n"
     ]
    }
   ],
   "source": [
    "# Create a spark session (which will run spark jobs)\n",
    "spark = (\n",
    "    SparkSession.builder.appName(\"Preprocess\")\n",
    "    .config(\"spark.sql.repl.eagerEval.enabled\", True)\n",
    "    .config(\"spark.sql.parquet.cacheMetadata\", \"true\")\n",
    "    .config(\"spark.sql.session.timeZone\", \"Etc/UTC\")\n",
    "    .getOrCreate()\n",
    ")"
   ]
  },
  {
   "cell_type": "markdown",
   "metadata": {},
   "source": [
    "> Investigate datasets' schema"
   ]
  },
  {
   "cell_type": "code",
   "execution_count": 4,
   "metadata": {},
   "outputs": [
    {
     "name": "stderr",
     "output_type": "stream",
     "text": [
      "                                                                                \r"
     ]
    },
    {
     "name": "stdout",
     "output_type": "stream",
     "text": [
      "root\n",
      " |-- VendorID: long (nullable = true)\n",
      " |-- tpep_pickup_datetime: timestamp_ntz (nullable = true)\n",
      " |-- tpep_dropoff_datetime: timestamp_ntz (nullable = true)\n",
      " |-- passenger_count: double (nullable = true)\n",
      " |-- trip_distance: double (nullable = true)\n",
      " |-- RatecodeID: double (nullable = true)\n",
      " |-- store_and_fwd_flag: string (nullable = true)\n",
      " |-- PULocationID: long (nullable = true)\n",
      " |-- DOLocationID: long (nullable = true)\n",
      " |-- payment_type: long (nullable = true)\n",
      " |-- fare_amount: double (nullable = true)\n",
      " |-- extra: double (nullable = true)\n",
      " |-- mta_tax: double (nullable = true)\n",
      " |-- tip_amount: double (nullable = true)\n",
      " |-- tolls_amount: double (nullable = true)\n",
      " |-- improvement_surcharge: double (nullable = true)\n",
      " |-- total_amount: double (nullable = true)\n",
      " |-- congestion_surcharge: double (nullable = true)\n",
      " |-- airport_fee: double (nullable = true)\n",
      "\n"
     ]
    }
   ],
   "source": [
    "# Schema of Dec 2022 set\n",
    "sdf_dec = spark.read.parquet('../data/landing/train_set/2022-12.parquet')\n",
    "sdf_dec.printSchema()"
   ]
  },
  {
   "cell_type": "markdown",
   "metadata": {},
   "source": [
    "Detected unsuitable data types in Dec 2022 such as VendorID which should be of integer type"
   ]
  },
  {
   "cell_type": "code",
   "execution_count": 62,
   "metadata": {},
   "outputs": [
    {
     "name": "stdout",
     "output_type": "stream",
     "text": [
      "root\n",
      " |-- VendorID: integer (nullable = true)\n",
      " |-- tpep_pickup_datetime: timestamp_ntz (nullable = true)\n",
      " |-- tpep_dropoff_datetime: timestamp_ntz (nullable = true)\n",
      " |-- passenger_count: long (nullable = true)\n",
      " |-- trip_distance: double (nullable = true)\n",
      " |-- RatecodeID: long (nullable = true)\n",
      " |-- store_and_fwd_flag: string (nullable = true)\n",
      " |-- PULocationID: integer (nullable = true)\n",
      " |-- DOLocationID: integer (nullable = true)\n",
      " |-- payment_type: long (nullable = true)\n",
      " |-- fare_amount: double (nullable = true)\n",
      " |-- extra: double (nullable = true)\n",
      " |-- mta_tax: double (nullable = true)\n",
      " |-- tip_amount: double (nullable = true)\n",
      " |-- tolls_amount: double (nullable = true)\n",
      " |-- improvement_surcharge: double (nullable = true)\n",
      " |-- total_amount: double (nullable = true)\n",
      " |-- congestion_surcharge: double (nullable = true)\n",
      " |-- Airport_fee: double (nullable = true)\n",
      "\n"
     ]
    }
   ],
   "source": [
    "# Schema of Feb 2023 set\n",
    "sdf_feb = spark.read.parquet('../data/landing/train_set/2023-02.parquet')\n",
    "sdf_feb.printSchema()"
   ]
  },
  {
   "cell_type": "markdown",
   "metadata": {},
   "source": [
    "Detected unsuitable data types and inconsistent schema with Dec 2022 dataset"
   ]
  },
  {
   "cell_type": "markdown",
   "metadata": {},
   "source": [
    "> Schema integration"
   ]
  },
  {
   "cell_type": "code",
   "execution_count": 5,
   "metadata": {},
   "outputs": [
    {
     "data": {
      "text/plain": [
       "StructType([StructField('vendorid', IntegerType(), True), StructField('tpep_pickup_datetime', TimestampNTZType(), True), StructField('tpep_dropoff_datetime', TimestampNTZType(), True), StructField('passenger_count', IntegerType(), True), StructField('trip_distance', DoubleType(), True), StructField('ratecodeid', IntegerType(), True), StructField('store_and_fwd_flag', BooleanType(), True), StructField('pulocationid', IntegerType(), True), StructField('dolocationid', IntegerType(), True), StructField('payment_type', IntegerType(), True), StructField('fare_amount', DoubleType(), True), StructField('extra', DoubleType(), True), StructField('mta_tax', DoubleType(), True), StructField('tip_amount', DoubleType(), True), StructField('tolls_amount', DoubleType(), True), StructField('improvement_surcharge', DoubleType(), True), StructField('total_amount', DoubleType(), True), StructField('congestion_surcharge', DoubleType(), True), StructField('airport_fee', DoubleType(), True)])"
      ]
     },
     "execution_count": 5,
     "metadata": {},
     "output_type": "execute_result"
    }
   ],
   "source": [
    "# Get the corrected schema by casting suitable data types for the features\n",
    "sdf_schema = get_schema(sdf_dec)   # function from download fix schema.py\n",
    "sdf_schema\n"
   ]
  },
  {
   "cell_type": "code",
   "execution_count": 8,
   "metadata": {},
   "outputs": [],
   "source": [
    "def schema_integration(set_name, date, schema):\n",
    "    '''Read dataset in the given name and date, copy the corrected schema \n",
    "    and output to the raw layer'''\n",
    "    \n",
    "    for year in date.keys():\n",
    "        for month in date[year]:\n",
    "            input_path = f'../data/landing/{set_name}/{year}-{str(month).zfill(2)}.parquet'\n",
    "            output_path = f'../data/raw/{set_name}/{year}-{str(month).zfill(2)}'\n",
    "\n",
    "            # read the dataset\n",
    "            sdf = spark.read.parquet(input_path)\n",
    "            # copy schema and output\n",
    "            copy_schema(sdf, schema, output_path)   # function from download fix schema.py"
   ]
  },
  {
   "cell_type": "markdown",
   "metadata": {},
   "source": [
    "Copy the schema for other datasets and output transformed files into the raw layer"
   ]
  },
  {
   "cell_type": "code",
   "execution_count": 98,
   "metadata": {},
   "outputs": [
    {
     "name": "stderr",
     "output_type": "stream",
     "text": [
      "                                                                                \r"
     ]
    }
   ],
   "source": [
    "# Schema integration for train set\n",
    "schema_integration('train_set', train_date, sdf_schema)"
   ]
  },
  {
   "cell_type": "code",
   "execution_count": 9,
   "metadata": {},
   "outputs": [
    {
     "name": "stderr",
     "output_type": "stream",
     "text": [
      "                                                                                \r"
     ]
    }
   ],
   "source": [
    "# Schema integration for test set\n",
    "schema_integration('test_set', test_date, sdf_schema)"
   ]
  },
  {
   "cell_type": "markdown",
   "metadata": {},
   "source": [
    "Raw data is ready with consistent schema"
   ]
  },
  {
   "cell_type": "code",
   "execution_count": 6,
   "metadata": {},
   "outputs": [
    {
     "name": "stderr",
     "output_type": "stream",
     "text": [
      "                                                                                \r"
     ]
    },
    {
     "name": "stdout",
     "output_type": "stream",
     "text": [
      "-RECORD 0------------------------------------\n",
      " vendorid              | 1                   \n",
      " tpep_pickup_datetime  | 2022-12-01 00:37:35 \n",
      " tpep_dropoff_datetime | 2022-12-01 00:47:35 \n",
      " passenger_count       | 1                   \n",
      " trip_distance         | 2.0                 \n",
      " ratecodeid            | 1                   \n",
      " store_and_fwd_flag    | false               \n",
      " pulocationid          | 170                 \n",
      " dolocationid          | 237                 \n",
      " payment_type          | 1                   \n",
      " fare_amount           | 8.5                 \n",
      " extra                 | 3.0                 \n",
      " mta_tax               | 0.5                 \n",
      " tip_amount            | 3.1                 \n",
      " tolls_amount          | 0.0                 \n",
      " improvement_surcharge | 0.3                 \n",
      " total_amount          | 15.4                \n",
      " congestion_surcharge  | 2.5                 \n",
      " airport_fee           | 0.0                 \n",
      "only showing top 1 row\n",
      "\n"
     ]
    }
   ],
   "source": [
    "# Check all the training datasets\n",
    "train_sdf = spark.read.schema(sdf_schema).parquet('../data/raw/train_set/*')\n",
    "train_sdf.show(1, vertical=True, truncate=100)"
   ]
  },
  {
   "cell_type": "code",
   "execution_count": 7,
   "metadata": {},
   "outputs": [
    {
     "name": "stdout",
     "output_type": "stream",
     "text": [
      "-RECORD 0------------------------------------\n",
      " vendorid              | 2                   \n",
      " tpep_pickup_datetime  | 2024-01-01 00:57:55 \n",
      " tpep_dropoff_datetime | 2024-01-01 01:17:43 \n",
      " passenger_count       | 1                   \n",
      " trip_distance         | 1.72                \n",
      " ratecodeid            | 1                   \n",
      " store_and_fwd_flag    | false               \n",
      " pulocationid          | 186                 \n",
      " dolocationid          | 79                  \n",
      " payment_type          | 2                   \n",
      " fare_amount           | 17.7                \n",
      " extra                 | 1.0                 \n",
      " mta_tax               | 0.5                 \n",
      " tip_amount            | 0.0                 \n",
      " tolls_amount          | 0.0                 \n",
      " improvement_surcharge | 1.0                 \n",
      " total_amount          | 22.7                \n",
      " congestion_surcharge  | 2.5                 \n",
      " airport_fee           | 0.0                 \n",
      "only showing top 1 row\n",
      "\n"
     ]
    }
   ],
   "source": [
    "# Check all the testing datasets\n",
    "test_sdf = spark.read.schema(sdf_schema).parquet('../data/raw/test_set/*')\n",
    "test_sdf.show(1, vertical=True, truncate=100)"
   ]
  },
  {
   "cell_type": "markdown",
   "metadata": {},
   "source": [
    "> Filter columns and Preprocess training and testing datasets"
   ]
  },
  {
   "cell_type": "markdown",
   "metadata": {},
   "source": [
    "The only valid predictor variables for the trip duration are the variables that are known before the trip ends.\n",
    "This makes all the payment-related features irrelevant"
   ]
  },
  {
   "cell_type": "code",
   "execution_count": 10,
   "metadata": {},
   "outputs": [],
   "source": [
    "# Select only valid features for the train and test set\n",
    "selected_features = [\"tpep_pickup_datetime\", \"tpep_dropoff_datetime\", \"trip_distance\", \"pulocationid\", \n",
    "                    \"dolocationid\"]\n",
    "train_sdf = train_sdf.select(*selected_features)\n",
    "test_sdf = test_sdf.select(*selected_features)"
   ]
  },
  {
   "cell_type": "markdown",
   "metadata": {},
   "source": [
    "> Check for missing values and Descriptive statistics"
   ]
  },
  {
   "cell_type": "code",
   "execution_count": 132,
   "metadata": {},
   "outputs": [
    {
     "name": "stdout",
     "output_type": "stream",
     "text": [
      "Missing values:\n"
     ]
    },
    {
     "name": "stderr",
     "output_type": "stream",
     "text": [
      "                                                                                \r"
     ]
    },
    {
     "name": "stdout",
     "output_type": "stream",
     "text": [
      "+--------------------+---------------------+-------------+------------+------------+\n",
      "|tpep_pickup_datetime|tpep_dropoff_datetime|trip_distance|pulocationid|dolocationid|\n",
      "+--------------------+---------------------+-------------+------------+------------+\n",
      "|                   0|                    0|            0|           0|           0|\n",
      "+--------------------+---------------------+-------------+------------+------------+\n",
      "\n"
     ]
    },
    {
     "name": "stderr",
     "output_type": "stream",
     "text": [
      "                                                                                \r"
     ]
    },
    {
     "name": "stdout",
     "output_type": "stream",
     "text": [
      "tpep_pickup_datetime:\n",
      "\tLatest: 2023-09-05 18:20:48 \n",
      "\tEarliest: 2001-01-01 00:06:49\n",
      "\n",
      "tpep_dropoff_datetime:\n",
      "\tLatest: 2023-09-05 18:24:21 \n",
      "\tEarliest: 2001-01-01 00:16:31 \n",
      "\n",
      "Descriptive statistics\n",
      "+-------+------------------+------------------+-----------------+\n",
      "|summary|     trip_distance|      pulocationid|     dolocationid|\n",
      "+-------+------------------+------------------+-----------------+\n",
      "|  count|          19585935|          19585935|         19585935|\n",
      "|   mean| 4.139103050734796|165.69693634743504|164.0078257177919|\n",
      "| stddev|273.10277973912673| 64.25788829295762|69.93702440236571|\n",
      "|    min|               0.0|                 1|                1|\n",
      "|    max|         342344.85|               265|              265|\n",
      "+-------+------------------+------------------+-----------------+\n",
      "\n"
     ]
    },
    {
     "name": "stderr",
     "output_type": "stream",
     "text": [
      "                                                                                \r"
     ]
    }
   ],
   "source": [
    "# Check training set\n",
    "check_dataset(train_sdf)    # function from preprocess.py"
   ]
  },
  {
   "cell_type": "code",
   "execution_count": 12,
   "metadata": {},
   "outputs": [
    {
     "name": "stdout",
     "output_type": "stream",
     "text": [
      "Missing values:\n"
     ]
    },
    {
     "name": "stderr",
     "output_type": "stream",
     "text": [
      "                                                                                \r"
     ]
    },
    {
     "name": "stdout",
     "output_type": "stream",
     "text": [
      "+--------------------+---------------------+-------------+------------+------------+\n",
      "|tpep_pickup_datetime|tpep_dropoff_datetime|trip_distance|pulocationid|dolocationid|\n",
      "+--------------------+---------------------+-------------+------------+------------+\n",
      "|                   0|                    0|            0|           0|           0|\n",
      "+--------------------+---------------------+-------------+------------+------------+\n",
      "\n",
      "tpep_pickup_datetime:\n",
      "\tLatest: 2024-04-01 00:34:55 \n",
      "\tEarliest: 2002-12-31 22:17:10\n",
      "\n",
      "tpep_dropoff_datetime:\n",
      "\tLatest: 2024-04-02 18:08:46 \n",
      "\tEarliest: 2002-12-31 22:42:24 \n",
      "\n",
      "Descriptive statistics\n"
     ]
    },
    {
     "name": "stderr",
     "output_type": "stream",
     "text": [
      "[Stage 24:===========================================>              (6 + 2) / 8]\r"
     ]
    },
    {
     "name": "stdout",
     "output_type": "stream",
     "text": [
      "+-------+----------------+-----------------+------------------+\n",
      "|summary|   trip_distance|     pulocationid|      dolocationid|\n",
      "+-------+----------------+-----------------+------------------+\n",
      "|  count|         9554778|          9554778|           9554778|\n",
      "|   mean| 4.0422861452141|165.2032947285641|164.18751351418106|\n",
      "| stddev|265.478273577837|64.05330206884229| 69.40855342677489|\n",
      "|    min|             0.0|                1|                 1|\n",
      "|    max|        312722.3|              265|               265|\n",
      "+-------+----------------+-----------------+------------------+\n",
      "\n"
     ]
    },
    {
     "name": "stderr",
     "output_type": "stream",
     "text": [
      "                                                                                \r"
     ]
    }
   ],
   "source": [
    "# Check testing set\n",
    "check_dataset(test_sdf)"
   ]
  },
  {
   "cell_type": "markdown",
   "metadata": {},
   "source": [
    "- No missing values found in the selected columns of training and testing sets\n",
    "- Ranges of pickup and dropoff time are invalid (earliest being year 2001 and 2002)\n",
    "- Unreasonable trip distance range\n",
    "- Some pickup and dropoff locations are not well defined (id = 265)"
   ]
  },
  {
   "cell_type": "markdown",
   "metadata": {},
   "source": [
    "> Filter invalid and unreasonable values"
   ]
  },
  {
   "cell_type": "code",
   "execution_count": 11,
   "metadata": {},
   "outputs": [],
   "source": [
    "# Filter pickup and dropoff time, trip distance, pickup and dropoff location\n",
    "# for training set\n",
    "train_sdf = filter_columns('train', train_sdf)  # function from preprocess.py"
   ]
  },
  {
   "cell_type": "code",
   "execution_count": 18,
   "metadata": {},
   "outputs": [
    {
     "name": "stdout",
     "output_type": "stream",
     "text": [
      "Missing values:\n"
     ]
    },
    {
     "name": "stderr",
     "output_type": "stream",
     "text": [
      "                                                                                \r"
     ]
    },
    {
     "name": "stdout",
     "output_type": "stream",
     "text": [
      "+--------------------+---------------------+-------------+------------+------------+\n",
      "|tpep_pickup_datetime|tpep_dropoff_datetime|trip_distance|pulocationid|dolocationid|\n",
      "+--------------------+---------------------+-------------+------------+------------+\n",
      "|                   0|                    0|            0|           0|           0|\n",
      "+--------------------+---------------------+-------------+------------+------------+\n",
      "\n"
     ]
    },
    {
     "name": "stderr",
     "output_type": "stream",
     "text": [
      "                                                                                \r"
     ]
    },
    {
     "name": "stdout",
     "output_type": "stream",
     "text": [
      "tpep_pickup_datetime:\n",
      "\tLatest: 2023-05-31 23:53:47 \n",
      "\tEarliest: 2022-12-01 00:00:00\n"
     ]
    },
    {
     "name": "stderr",
     "output_type": "stream",
     "text": [
      "                                                                                \r"
     ]
    },
    {
     "name": "stdout",
     "output_type": "stream",
     "text": [
      "\n",
      "tpep_dropoff_datetime:\n",
      "\tLatest: 2023-05-31 23:59:56 \n",
      "\tEarliest: 2022-12-01 00:03:42 \n",
      "\n",
      "Descriptive statistics\n"
     ]
    },
    {
     "name": "stderr",
     "output_type": "stream",
     "text": [
      "[Stage 58:===================>                                      (3 + 6) / 9]\r"
     ]
    },
    {
     "name": "stdout",
     "output_type": "stream",
     "text": [
      "+-------+-----------------+------------------+------------------+\n",
      "|summary|    trip_distance|      pulocationid|      dolocationid|\n",
      "+-------+-----------------+------------------+------------------+\n",
      "|  count|         15068351|          15068351|          15068351|\n",
      "|   mean|4.148748528617814|162.88621429113246|160.56771952020497|\n",
      "| stddev|4.593031877272062| 63.41974946304086| 70.46096979435906|\n",
      "|    min|              1.0|                 1|                 1|\n",
      "|    max|             50.0|               263|               263|\n",
      "+-------+-----------------+------------------+------------------+\n",
      "\n"
     ]
    },
    {
     "name": "stderr",
     "output_type": "stream",
     "text": [
      "                                                                                \r"
     ]
    }
   ],
   "source": [
    "# Check the training set after filtering\n",
    "check_dataset(train_sdf)"
   ]
  },
  {
   "cell_type": "code",
   "execution_count": 50,
   "metadata": {},
   "outputs": [],
   "source": [
    "# Filter testing set\n",
    "test_sdf = filter_columns('test', test_sdf)"
   ]
  },
  {
   "cell_type": "code",
   "execution_count": 17,
   "metadata": {},
   "outputs": [
    {
     "name": "stdout",
     "output_type": "stream",
     "text": [
      "Missing values:\n"
     ]
    },
    {
     "name": "stderr",
     "output_type": "stream",
     "text": [
      "                                                                                \r"
     ]
    },
    {
     "name": "stdout",
     "output_type": "stream",
     "text": [
      "+--------------------+---------------------+-------------+------------+------------+\n",
      "|tpep_pickup_datetime|tpep_dropoff_datetime|trip_distance|pulocationid|dolocationid|\n",
      "+--------------------+---------------------+-------------+------------+------------+\n",
      "|                   0|                    0|            0|           0|           0|\n",
      "+--------------------+---------------------+-------------+------------+------------+\n",
      "\n"
     ]
    },
    {
     "name": "stderr",
     "output_type": "stream",
     "text": [
      "                                                                                \r"
     ]
    },
    {
     "name": "stdout",
     "output_type": "stream",
     "text": [
      "tpep_pickup_datetime:\n",
      "\tLatest: 2024-03-31 23:54:12 \n",
      "\tEarliest: 2024-01-01 00:00:02\n"
     ]
    },
    {
     "name": "stderr",
     "output_type": "stream",
     "text": [
      "                                                                                \r"
     ]
    },
    {
     "name": "stdout",
     "output_type": "stream",
     "text": [
      "\n",
      "tpep_dropoff_datetime:\n",
      "\tLatest: 2024-03-31 23:59:59 \n",
      "\tEarliest: 2024-01-01 00:04:36 \n",
      "\n",
      "Descriptive statistics\n"
     ]
    },
    {
     "name": "stderr",
     "output_type": "stream",
     "text": [
      "[Stage 60:====================================>                     (5 + 3) / 8]\r"
     ]
    },
    {
     "name": "stdout",
     "output_type": "stream",
     "text": [
      "+-------+------------------+-----------------+-----------------+\n",
      "|summary|     trip_distance|     pulocationid|     dolocationid|\n",
      "+-------+------------------+-----------------+-----------------+\n",
      "|  count|           7152387|          7152387|          7152387|\n",
      "|   mean|3.9897780111698253|163.0676472064501|161.2206751396422|\n",
      "| stddev| 4.439953417112491|63.65933727442688| 70.1999432929338|\n",
      "|    min|               1.0|                1|                1|\n",
      "|    max|             49.88|              263|              263|\n",
      "+-------+------------------+-----------------+-----------------+\n",
      "\n"
     ]
    },
    {
     "name": "stderr",
     "output_type": "stream",
     "text": [
      "                                                                                \r"
     ]
    }
   ],
   "source": [
    "# Check the testing set after filtering\n",
    "check_dataset(test_sdf)"
   ]
  },
  {
   "cell_type": "markdown",
   "metadata": {},
   "source": [
    "After filtering out unreasonable values of each feature, both the training and testing datasets contain features in the range of interest"
   ]
  },
  {
   "cell_type": "markdown",
   "metadata": {},
   "source": [
    "> Compute trip duration"
   ]
  },
  {
   "cell_type": "code",
   "execution_count": 12,
   "metadata": {},
   "outputs": [
    {
     "name": "stderr",
     "output_type": "stream",
     "text": [
      "                                                                                \r"
     ]
    },
    {
     "data": {
      "text/html": [
       "<table border='1'>\n",
       "<tr><th>summary</th><th>trip_duration</th></tr>\n",
       "<tr><td>count</td><td>15068351</td></tr>\n",
       "<tr><td>mean</td><td>19.689454410107945</td></tr>\n",
       "<tr><td>stddev</td><td>44.20236868647605</td></tr>\n",
       "<tr><td>min</td><td>-76.46666666666667</td></tr>\n",
       "<tr><td>max</td><td>7053.616666666667</td></tr>\n",
       "</table>\n"
      ],
      "text/plain": [
       "+-------+------------------+\n",
       "|summary|     trip_duration|\n",
       "+-------+------------------+\n",
       "|  count|          15068351|\n",
       "|   mean|19.689454410107945|\n",
       "| stddev| 44.20236868647605|\n",
       "|    min|-76.46666666666667|\n",
       "|    max| 7053.616666666667|\n",
       "+-------+------------------+"
      ]
     },
     "execution_count": 12,
     "metadata": {},
     "output_type": "execute_result"
    }
   ],
   "source": [
    "# Trip duration is calculated by taking the unix time of the dropoff time \n",
    "# minus the unix time of the pickup time\n",
    "\n",
    "train_sdf = train_sdf.withColumn(\n",
    "    \"trip_duration\",\n",
    "    (F.unix_timestamp(\"tpep_dropoff_datetime\") - F.unix_timestamp(\"tpep_pickup_datetime\")) / 60  \n",
    "                                                                            # Convert to minutes\n",
    ")\n",
    "\n",
    "# Check descriptive statistics of trip duration\n",
    "train_sdf.select('trip_duration').describe()"
   ]
  },
  {
   "cell_type": "code",
   "execution_count": 13,
   "metadata": {},
   "outputs": [
    {
     "name": "stderr",
     "output_type": "stream",
     "text": [
      "                                                                                \r"
     ]
    },
    {
     "data": {
      "text/html": [
       "<table border='1'>\n",
       "<tr><th>summary</th><th>trip_duration</th></tr>\n",
       "<tr><td>count</td><td>9554778</td></tr>\n",
       "<tr><td>mean</td><td>16.126599182455077</td></tr>\n",
       "<tr><td>stddev</td><td>34.33336219348807</td></tr>\n",
       "<tr><td>min</td><td>-52.06666666666667</td></tr>\n",
       "<tr><td>max</td><td>9455.4</td></tr>\n",
       "</table>\n"
      ],
      "text/plain": [
       "+-------+------------------+\n",
       "|summary|     trip_duration|\n",
       "+-------+------------------+\n",
       "|  count|           9554778|\n",
       "|   mean|16.126599182455077|\n",
       "| stddev| 34.33336219348807|\n",
       "|    min|-52.06666666666667|\n",
       "|    max|            9455.4|\n",
       "+-------+------------------+"
      ]
     },
     "execution_count": 13,
     "metadata": {},
     "output_type": "execute_result"
    }
   ],
   "source": [
    "# Trip duration for testing set\n",
    "test_sdf = test_sdf.withColumn(\n",
    "    \"trip_duration\",\n",
    "    (F.unix_timestamp(\"tpep_dropoff_datetime\") - F.unix_timestamp(\"tpep_pickup_datetime\")) / 60  \n",
    "                                                                            # Convert to minutes\n",
    ")\n",
    "\n",
    "# Check descriptive statistics of trip duration\n",
    "test_sdf.select('trip_duration').describe()"
   ]
  },
  {
   "cell_type": "markdown",
   "metadata": {},
   "source": [
    "The minimum trip duration is negative and maximum trip lasts for a few days \n",
    "which is invalid and needs filtering"
   ]
  },
  {
   "cell_type": "code",
   "execution_count": 14,
   "metadata": {},
   "outputs": [
    {
     "name": "stderr",
     "output_type": "stream",
     "text": [
      "                                                                                \r"
     ]
    },
    {
     "data": {
      "text/html": [
       "<table border='1'>\n",
       "<tr><th>summary</th><th>trip_duration</th></tr>\n",
       "<tr><td>count</td><td>14766750</td></tr>\n",
       "<tr><td>mean</td><td>18.61647079869783</td></tr>\n",
       "<tr><td>stddev</td><td>12.535506632638388</td></tr>\n",
       "<tr><td>min</td><td>5.0</td></tr>\n",
       "<tr><td>max</td><td>120.0</td></tr>\n",
       "</table>\n"
      ],
      "text/plain": [
       "+-------+------------------+\n",
       "|summary|     trip_duration|\n",
       "+-------+------------------+\n",
       "|  count|          14766750|\n",
       "|   mean| 18.61647079869783|\n",
       "| stddev|12.535506632638388|\n",
       "|    min|               5.0|\n",
       "|    max|             120.0|\n",
       "+-------+------------------+"
      ]
     },
     "execution_count": 14,
     "metadata": {},
     "output_type": "execute_result"
    }
   ],
   "source": [
    "# We're interest in trips that last at least 5 minutes and at most 2 hours\n",
    "train_sdf = train_sdf.filter(\n",
    "    F.col(\"trip_duration\").between(5, 120)\n",
    ")\n",
    "\n",
    "# Check descriptive statistics after filtering\n",
    "train_sdf.select('trip_duration').describe()"
   ]
  },
  {
   "cell_type": "code",
   "execution_count": 15,
   "metadata": {},
   "outputs": [
    {
     "data": {
      "text/html": [
       "<table border='1'>\n",
       "<tr><th>summary</th><th>trip_duration</th></tr>\n",
       "<tr><td>count</td><td>8408251</td></tr>\n",
       "<tr><td>mean</td><td>16.96881273327025</td></tr>\n",
       "<tr><td>stddev</td><td>12.108975701628689</td></tr>\n",
       "<tr><td>min</td><td>5.0</td></tr>\n",
       "<tr><td>max</td><td>120.0</td></tr>\n",
       "</table>\n"
      ],
      "text/plain": [
       "+-------+------------------+\n",
       "|summary|     trip_duration|\n",
       "+-------+------------------+\n",
       "|  count|           8408251|\n",
       "|   mean| 16.96881273327025|\n",
       "| stddev|12.108975701628689|\n",
       "|    min|               5.0|\n",
       "|    max|             120.0|\n",
       "+-------+------------------+"
      ]
     },
     "execution_count": 15,
     "metadata": {},
     "output_type": "execute_result"
    }
   ],
   "source": [
    "# Filter trip duration for testing set\n",
    "test_sdf = test_sdf.filter(\n",
    "    F.col(\"trip_duration\").between(5, 120)\n",
    ")\n",
    "\n",
    "# Check descriptive statistics after filtering\n",
    "test_sdf.select('trip_duration').describe()"
   ]
  },
  {
   "cell_type": "markdown",
   "metadata": {},
   "source": [
    "The trip durations in training and testing sets are now within the range of interest"
   ]
  },
  {
   "cell_type": "markdown",
   "metadata": {},
   "source": [
    "> Compute the average speed"
   ]
  },
  {
   "cell_type": "markdown",
   "metadata": {},
   "source": [
    "For data visualisation purpose, the average speed of each taxi trip is calculated to examine the ratio of trip duration to trip distance. From that we can decide to remove any strange outliers where the trip takes too short or too long"
   ]
  },
  {
   "cell_type": "code",
   "execution_count": 16,
   "metadata": {},
   "outputs": [
    {
     "name": "stderr",
     "output_type": "stream",
     "text": [
      "                                                                                \r"
     ]
    },
    {
     "data": {
      "text/html": [
       "<table border='1'>\n",
       "<tr><th>summary</th><th>speed</th></tr>\n",
       "<tr><td>count</td><td>14766750</td></tr>\n",
       "<tr><td>mean</td><td>12.382750562517973</td></tr>\n",
       "<tr><td>stddev</td><td>6.823637710095186</td></tr>\n",
       "<tr><td>min</td><td>0.5102763997165132</td></tr>\n",
       "<tr><td>max</td><td>335.13157894736844</td></tr>\n",
       "</table>\n"
      ],
      "text/plain": [
       "+-------+------------------+\n",
       "|summary|             speed|\n",
       "+-------+------------------+\n",
       "|  count|          14766750|\n",
       "|   mean|12.382750562517973|\n",
       "| stddev| 6.823637710095186|\n",
       "|    min|0.5102763997165132|\n",
       "|    max|335.13157894736844|\n",
       "+-------+------------------+"
      ]
     },
     "execution_count": 16,
     "metadata": {},
     "output_type": "execute_result"
    }
   ],
   "source": [
    "# Taking the total distance travel divided by the total time taken \n",
    "# to get the average speed of the trip \n",
    "\n",
    "train_sdf = train_sdf.withColumn(\n",
    "    \"speed\",    # unit of speed is miles per hour\n",
    "    F.col(\"trip_distance\") / (F.col(\"trip_duration\") / 60)  # Convert time to hours\n",
    ")\n",
    "\n",
    "# Check descriptive statistics of speed\n",
    "train_sdf.select('speed').describe()"
   ]
  },
  {
   "cell_type": "code",
   "execution_count": 17,
   "metadata": {},
   "outputs": [
    {
     "data": {
      "text/html": [
       "<table border='1'>\n",
       "<tr><th>summary</th><th>speed</th></tr>\n",
       "<tr><td>count</td><td>8408251</td></tr>\n",
       "<tr><td>mean</td><td>14.52519437162144</td></tr>\n",
       "<tr><td>stddev</td><td>1271.7922445797697</td></tr>\n",
       "<tr><td>min</td><td>0.0</td></tr>\n",
       "<tr><td>max</td><td>1906956.7714285715</td></tr>\n",
       "</table>\n"
      ],
      "text/plain": [
       "+-------+------------------+\n",
       "|summary|             speed|\n",
       "+-------+------------------+\n",
       "|  count|           8408251|\n",
       "|   mean| 14.52519437162144|\n",
       "| stddev|1271.7922445797697|\n",
       "|    min|               0.0|\n",
       "|    max|1906956.7714285715|\n",
       "+-------+------------------+"
      ]
     },
     "execution_count": 17,
     "metadata": {},
     "output_type": "execute_result"
    }
   ],
   "source": [
    "# Speed for testing set\n",
    "test_sdf = test_sdf.withColumn(\n",
    "    \"speed\",    # unit of speed is miles per hour\n",
    "    F.col(\"trip_distance\") / (F.col(\"trip_duration\") / 60)  # Convert time to hours\n",
    ")\n",
    "\n",
    "# Check descriptive statistics of speed\n",
    "test_sdf.select('speed').describe()"
   ]
  },
  {
   "cell_type": "markdown",
   "metadata": {},
   "source": [
    "The minimum speed is 0.5 mph and maximum speed is 380 mph which are both unreasonable and impossible"
   ]
  },
  {
   "cell_type": "markdown",
   "metadata": {},
   "source": [
    "The speed should be at most 65 mph which is the top speed limit of NYC"
   ]
  },
  {
   "cell_type": "code",
   "execution_count": 18,
   "metadata": {},
   "outputs": [
    {
     "name": "stderr",
     "output_type": "stream",
     "text": [
      "                                                                                \r"
     ]
    },
    {
     "data": {
      "text/html": [
       "<table border='1'>\n",
       "<tr><th>summary</th><th>speed</th></tr>\n",
       "<tr><td>count</td><td>14766455</td></tr>\n",
       "<tr><td>mean</td><td>12.380965966168404</td></tr>\n",
       "<tr><td>stddev</td><td>6.809368825368269</td></tr>\n",
       "<tr><td>min</td><td>0.5102763997165132</td></tr>\n",
       "<tr><td>max</td><td>64.97560975609757</td></tr>\n",
       "</table>\n"
      ],
      "text/plain": [
       "+-------+------------------+\n",
       "|summary|             speed|\n",
       "+-------+------------------+\n",
       "|  count|          14766455|\n",
       "|   mean|12.380965966168404|\n",
       "| stddev| 6.809368825368269|\n",
       "|    min|0.5102763997165132|\n",
       "|    max| 64.97560975609757|\n",
       "+-------+------------------+"
      ]
     },
     "execution_count": 18,
     "metadata": {},
     "output_type": "execute_result"
    }
   ],
   "source": [
    "# Filter speed in training set to be at most 65 mph\n",
    "train_sdf = train_sdf.filter(\n",
    "    F.col(\"speed\") < 65)\n",
    "\n",
    "# Check descriptive statistics after filtering\n",
    "train_sdf.select('speed').describe()"
   ]
  },
  {
   "cell_type": "code",
   "execution_count": 19,
   "metadata": {},
   "outputs": [
    {
     "data": {
      "text/html": [
       "<table border='1'>\n",
       "<tr><th>summary</th><th>speed</th></tr>\n",
       "<tr><td>count</td><td>8407957</td></tr>\n",
       "<tr><td>mean</td><td>11.137784902349596</td></tr>\n",
       "<tr><td>stddev</td><td>6.751035864563021</td></tr>\n",
       "<tr><td>min</td><td>0.0</td></tr>\n",
       "<tr><td>max</td><td>64.99236641221376</td></tr>\n",
       "</table>\n"
      ],
      "text/plain": [
       "+-------+------------------+\n",
       "|summary|             speed|\n",
       "+-------+------------------+\n",
       "|  count|           8407957|\n",
       "|   mean|11.137784902349596|\n",
       "| stddev| 6.751035864563021|\n",
       "|    min|               0.0|\n",
       "|    max| 64.99236641221376|\n",
       "+-------+------------------+"
      ]
     },
     "execution_count": 19,
     "metadata": {},
     "output_type": "execute_result"
    }
   ],
   "source": [
    "# Filter speed in testing set\n",
    "test_sdf = test_sdf.filter(\n",
    "    F.col(\"speed\") < 65)\n",
    "\n",
    "# Check descriptive statistics after filtering\n",
    "test_sdf.select('speed').describe()"
   ]
  },
  {
   "cell_type": "markdown",
   "metadata": {},
   "source": [
    "> Visualisation of speed and trip duration"
   ]
  },
  {
   "cell_type": "markdown",
   "metadata": {},
   "source": [
    "For sample of 5% of the data, we will visualise the distribution of speed, which helps to decide to remove outliers. Then we will visualise the distribution of trip duration after outliers are removed."
   ]
  },
  {
   "cell_type": "code",
   "execution_count": 60,
   "metadata": {},
   "outputs": [
    {
     "name": "stderr",
     "output_type": "stream",
     "text": [
      "                                                                                \r"
     ]
    }
   ],
   "source": [
    "# Sample 5% of training data\n",
    "sampled_df = train_sdf.sample(withReplacement=False, fraction=0.05, seed=42)\n",
    "# Convert this sampled dataframe to Pandas DataFrame\n",
    "sampled_df = sampled_df.select(*['trip_duration', 'speed']).toPandas()"
   ]
  },
  {
   "cell_type": "code",
   "execution_count": 35,
   "metadata": {},
   "outputs": [
    {
     "data": {
      "image/png": "[encoded data removed]",
      "text/plain": [
       "<Figure size 640x480 with 1 Axes>"
      ]
     },
     "metadata": {},
     "output_type": "display_data"
    }
   ],
   "source": [
    "get_histogram(sampled_df, 'speed', 'Speed (mph)', 'Density Histogram of Speed')    # function from visualisation.py"
   ]
  },
  {
   "cell_type": "markdown",
   "metadata": {},
   "source": [
    "This plot is saved under ../plots/histogram_speed.png"
   ]
  },
  {
   "cell_type": "markdown",
   "metadata": {},
   "source": [
    "We can see a long right tail in speed, which could be removed as outliers"
   ]
  },
  {
   "cell_type": "markdown",
   "metadata": {},
   "source": [
    "> Check for outliers"
   ]
  },
  {
   "cell_type": "markdown",
   "metadata": {},
   "source": [
    "The values of trip distance and trip duration have already been filtered to be within a reasonable range for the interest of this project."
   ]
  },
  {
   "cell_type": "markdown",
   "metadata": {},
   "source": [
    "These fixed ranges also ensure consistency in both training and testing dataset so that we do not extrapolate and use out-of-range values of predictor variables (such as trip distance) to predict trip duration "
   ]
  },
  {
   "cell_type": "markdown",
   "metadata": {},
   "source": [
    "However we will check the outliers for the ratio of trip distance and trip duration by looking at the outliers for speed"
   ]
  },
  {
   "cell_type": "markdown",
   "metadata": {},
   "source": [
    "Method: Flag outliers using the IQR rule for N > 100 and decide if the lower and upper bounds are reasonable to remove them"
   ]
  },
  {
   "cell_type": "markdown",
   "metadata": {},
   "source": [
    "Flag if: $(\\sqrt{log{N}} - 0.5) \\times IQR$ away from IQR"
   ]
  },
  {
   "cell_type": "code",
   "execution_count": 20,
   "metadata": {},
   "outputs": [
    {
     "name": "stderr",
     "output_type": "stream",
     "text": [
      "[Stage 57:======================================>                   (6 + 3) / 9]\r"
     ]
    },
    {
     "name": "stdout",
     "output_type": "stream",
     "text": [
      "+--------------------+---------------------+-------------+------------+------------+------------------+-----------------+\n",
      "|tpep_pickup_datetime|tpep_dropoff_datetime|trip_distance|pulocationid|dolocationid|     trip_duration|            speed|\n",
      "+--------------------+---------------------+-------------+------------+------------+------------------+-----------------+\n",
      "| 2023-05-28 12:13:36|  2023-05-28 12:20:26|          7.4|         145|         145| 6.833333333333333|64.97560975609757|\n",
      "| 2023-05-08 07:16:54|  2023-05-08 07:31:21|        15.64|         132|         145|             14.45|64.94117647058825|\n",
      "| 2023-03-12 16:12:05|  2023-03-12 16:18:58|         7.45|         125|         144| 6.883333333333334|64.93946731234867|\n",
      "| 2023-04-19 07:21:10|  2023-04-19 07:37:59|         18.2|         132|         234|16.816666666666666|64.93557978196233|\n",
      "| 2022-12-29 23:50:34|  2022-12-30 00:05:18|        15.92|          93|         145|14.733333333333333|64.83257918552036|\n",
      "| 2022-12-23 02:59:57|  2022-12-23 03:27:03|        29.27|          93|         143|              27.1|64.80442804428043|\n",
      "| 2023-01-03 14:08:27|  2023-01-03 14:41:08|         35.2|          48|           1| 32.68333333333333|64.62009178990311|\n",
      "| 2023-02-27 02:27:42|  2023-02-27 02:38:15|        11.36|         132|         138|             10.55|64.60663507109004|\n",
      "| 2022-12-23 21:44:25|  2022-12-23 22:12:41|         30.4|         132|           7|28.266666666666666|64.52830188679245|\n",
      "| 2023-01-14 19:52:00|  2023-01-14 20:07:54|         17.1|         170|         230|              15.9|64.52830188679245|\n",
      "| 2022-12-27 11:47:01|  2022-12-27 12:24:25|         40.2|         163|           1|              37.4|64.49197860962568|\n",
      "| 2023-02-15 23:34:07|  2023-02-15 23:40:30|         6.86|         223|          93| 6.383333333333334|64.48041775456919|\n",
      "| 2023-02-15 23:34:07|  2023-02-15 23:40:30|         6.86|         223|          93| 6.383333333333334|64.48041775456919|\n",
      "| 2023-05-14 09:49:37|  2023-05-14 10:10:25|        22.34|         138|         237|              20.8| 64.4423076923077|\n",
      "| 2023-02-10 13:35:20|  2023-02-10 13:50:27|        16.23|         196|         112|15.116666666666667|64.41896361631753|\n",
      "| 2022-12-25 19:16:26|  2022-12-25 19:52:03|         38.2|         132|         263| 35.61666666666667| 64.3518951801591|\n",
      "| 2022-12-08 23:13:00|  2022-12-08 23:22:00|         9.65|          13|         114|               9.0|64.33333333333334|\n",
      "| 2023-01-01 07:36:45|  2023-01-01 07:41:45|         5.36|         216|         155|               5.0|64.32000000000001|\n",
      "| 2023-01-01 07:36:45|  2023-01-01 07:41:45|         5.36|         216|         155|               5.0|64.32000000000001|\n",
      "| 2022-12-28 21:27:13|  2022-12-28 21:47:11|         21.4|          70|         142|19.966666666666665|64.30717863105176|\n",
      "+--------------------+---------------------+-------------+------------+------------+------------------+-----------------+\n",
      "only showing top 20 rows\n",
      "\n"
     ]
    },
    {
     "name": "stderr",
     "output_type": "stream",
     "text": [
      "                                                                                \r"
     ]
    }
   ],
   "source": [
    "# Check the upper bound, lower bound and flagged outliers for speed in training set\n",
    "# sorted by descending order\n",
    "train_lower, train_upper = check_outliers(train_sdf, 'speed')"
   ]
  },
  {
   "cell_type": "code",
   "execution_count": 16,
   "metadata": {},
   "outputs": [
    {
     "name": "stdout",
     "output_type": "stream",
     "text": [
      "Lower bound of speed in training set: -14.957334239499877\n",
      "Upper bound of speed in training set: 37.34093535034329\n"
     ]
    }
   ],
   "source": [
    "print(\"Lower bound of speed in training set:\", train_lower)\n",
    "print(\"Upper bound of speed in training set:\", train_upper)"
   ]
  },
  {
   "cell_type": "code",
   "execution_count": 21,
   "metadata": {},
   "outputs": [
    {
     "name": "stderr",
     "output_type": "stream",
     "text": [
      "                                                                                \r"
     ]
    },
    {
     "name": "stdout",
     "output_type": "stream",
     "text": [
      "+--------------------+---------------------+-------------+------------+------------+------------------+------------------+\n",
      "|tpep_pickup_datetime|tpep_dropoff_datetime|trip_distance|pulocationid|dolocationid|     trip_duration|             speed|\n",
      "+--------------------+---------------------+-------------+------------+------------+------------------+------------------+\n",
      "| 2024-02-23 23:50:08|  2024-02-23 23:58:52|         9.46|           9|         145| 8.733333333333333| 64.99236641221376|\n",
      "| 2024-01-29 23:33:12|  2024-01-29 23:43:13|        10.85|          19|         226|10.016666666666667| 64.99168053244591|\n",
      "| 2024-02-07 22:40:25|  2024-02-07 22:46:54|         7.02|         265|         265| 6.483333333333333| 64.96658097686375|\n",
      "| 2024-02-07 22:40:25|  2024-02-07 22:46:54|         7.02|         265|         265| 6.483333333333333| 64.96658097686375|\n",
      "| 2024-01-02 02:05:04|  2024-01-02 02:14:38|        10.35|         132|         166| 9.566666666666666| 64.91289198606272|\n",
      "| 2024-03-21 13:01:17|  2024-03-21 13:17:12|         17.2|         186|         132|15.916666666666666| 64.83769633507853|\n",
      "| 2024-01-02 05:01:19|  2024-01-02 05:12:10|        11.71|         107|          75|             10.85|  64.7557603686636|\n",
      "| 2024-03-04 00:04:19|  2024-03-04 00:20:16|        17.21|         265|         112|             15.95| 64.73981191222572|\n",
      "| 2024-03-31 04:03:32|  2024-03-31 04:17:06|        14.63|         231|         229|13.566666666666666| 64.70270270270271|\n",
      "| 2024-02-11 15:50:39|  2024-02-11 15:59:21|         9.36|         265|         265|               8.7| 64.55172413793103|\n",
      "| 2024-02-13 19:51:02|  2024-02-13 21:05:47|        80.32|         132|         265|             74.75| 64.47090301003344|\n",
      "| 2024-02-13 19:51:02|  2024-02-13 21:05:47|        80.32|         132|         265|             74.75| 64.47090301003344|\n",
      "| 2024-02-28 00:47:27|  2024-02-28 01:21:37|         36.7|         132|         195|34.166666666666664| 64.44878048780488|\n",
      "| 2024-03-19 23:09:47|  2024-03-19 23:14:48|         5.37|         213|          93| 5.016666666666667| 64.22591362126246|\n",
      "| 2024-01-11 01:35:53|  2024-01-11 01:50:47|        15.94|         132|         265|              14.9| 64.18791946308724|\n",
      "| 2024-02-07 22:06:34|  2024-02-07 22:14:32|         8.48|         265|         265| 7.966666666666667| 63.86610878661089|\n",
      "| 2024-01-28 00:14:00|  2024-01-28 00:37:35|         25.1|         132|          66|23.583333333333332| 63.85865724381626|\n",
      "| 2024-02-16 01:59:17|  2024-02-16 02:24:02|        26.33|         132|         265|             24.75| 63.83030303030303|\n",
      "| 2024-03-17 14:11:23|  2024-03-17 14:19:54|         9.06|          93|         219| 8.516666666666667|63.827788649706456|\n",
      "| 2024-01-14 02:07:38|  2024-01-14 02:17:49|        10.83|         132|          82|10.183333333333334|63.810147299509005|\n",
      "+--------------------+---------------------+-------------+------------+------------+------------------+------------------+\n",
      "only showing top 20 rows\n",
      "\n"
     ]
    }
   ],
   "source": [
    "# Check outliers for speed in testing set\n",
    "test_lower, test_upper = check_outliers(test_sdf, 'speed')"
   ]
  },
  {
   "cell_type": "code",
   "execution_count": 20,
   "metadata": {},
   "outputs": [
    {
     "name": "stdout",
     "output_type": "stream",
     "text": [
      "Lower bound of speed in testing set: -13.444034725258222\n",
      "Upper bound of speed in testing set: 35.050408827995\n"
     ]
    }
   ],
   "source": [
    "print(\"Lower bound of speed in testing set:\", test_lower)\n",
    "print(\"Upper bound of speed in testing set:\", test_upper)"
   ]
  },
  {
   "cell_type": "markdown",
   "metadata": {},
   "source": [
    "The upper bound for speed is around 37 mph, which corresponds to the start of the long tail in the histogram above. Therefore we think it is reasonable to remove these as outliers"
   ]
  },
  {
   "cell_type": "markdown",
   "metadata": {},
   "source": [
    "However, the lower bound is not useful as it is negative, therefore we will look at speeds that are smaller than the 5th percentile in the speed column and decide if it is reasonable to remove them"
   ]
  },
  {
   "cell_type": "code",
   "execution_count": 81,
   "metadata": {},
   "outputs": [
    {
     "name": "stderr",
     "output_type": "stream",
     "text": [
      "                                                                                \r"
     ]
    },
    {
     "name": "stdout",
     "output_type": "stream",
     "text": [
      "+--------------------+---------------------+-------------+------------+------------+------------------+------------------+\n",
      "|tpep_pickup_datetime|tpep_dropoff_datetime|trip_distance|pulocationid|dolocationid|     trip_duration|             speed|\n",
      "+--------------------+---------------------+-------------+------------+------------+------------------+------------------+\n",
      "| 2022-12-01 14:18:21|  2022-12-01 14:37:14|         1.07|         186|         161|18.883333333333333|3.3998234774933804|\n",
      "| 2022-12-01 14:31:47|  2022-12-01 14:55:01|          1.4|         186|         107|23.233333333333334|3.6154949784791963|\n",
      "| 2022-12-01 03:12:15|  2022-12-01 03:32:40|          1.4|          68|         230|20.416666666666668| 4.114285714285714|\n",
      "| 2022-12-01 05:01:47|  2022-12-01 05:34:17|         1.69|         230|         234|              32.5|              3.12|\n",
      "| 2022-12-01 05:29:38|  2022-12-01 05:48:56|          1.2|         163|          48|              19.3|3.7305699481865284|\n",
      "| 2022-12-01 05:29:03|  2022-12-01 06:23:59|         2.02|         100|         162| 54.93333333333333|2.2063106796116507|\n",
      "| 2022-12-01 05:29:13|  2022-12-01 05:49:44|          1.0|         205|         205|20.516666666666666|2.9244516653127537|\n",
      "| 2022-12-01 06:08:29|  2022-12-01 06:34:07|          1.5|         237|         162|25.633333333333333|3.5110533159947983|\n",
      "| 2022-12-01 06:39:53|  2022-12-01 06:58:51|          1.1|         233|          43|18.966666666666665| 3.479789103690686|\n",
      "| 2022-12-01 06:30:59|  2022-12-01 07:00:32|          2.0|         158|         100|             29.55| 4.060913705583756|\n",
      "| 2022-12-01 06:21:29|  2022-12-01 07:19:46|          1.1|         135|         135| 58.28333333333333|1.1323991993136975|\n",
      "| 2022-12-01 06:34:04|  2022-12-01 07:28:36|          2.9|           3|         213| 54.53333333333333|3.1907090464547676|\n",
      "| 2022-12-01 06:09:01|  2022-12-01 06:47:25|          1.0|         159|         137|              38.4|            1.5625|\n",
      "| 2022-12-01 07:17:28|  2022-12-01 07:43:41|          1.7|         186|         162|26.216666666666665| 3.890654799745709|\n",
      "| 2022-12-01 07:57:00|  2022-12-01 08:15:45|          1.3|         236|         238|             18.75|              4.16|\n",
      "| 2022-12-01 07:16:03|  2022-12-01 07:33:15|         1.14|         237|         142|              17.2| 3.976744186046511|\n",
      "| 2022-12-01 07:56:50|  2022-12-01 08:16:01|         1.12|         161|         100|19.183333333333334| 3.503040834057342|\n",
      "| 2022-12-01 07:57:01|  2022-12-01 08:16:23|          1.1|         236|         236|19.366666666666667|3.4079173838209984|\n",
      "| 2022-12-01 07:52:26|  2022-12-01 09:39:28|          3.4|         246|         246|107.03333333333333|1.9059483027094364|\n",
      "| 2022-12-01 07:16:11|  2022-12-01 07:31:45|          1.1|          48|         164|15.566666666666666| 4.239828693790151|\n",
      "+--------------------+---------------------+-------------+------------+------------+------------------+------------------+\n",
      "only showing top 20 rows\n",
      "\n",
      "Lower bound: 4.276363636363636\n"
     ]
    }
   ],
   "source": [
    "# Find the speeds smaller than the 2th percentile in the training set\n",
    "low_speed = find_low_speed(train_sdf)\n",
    "print(\"Lower bound:\", low_speed)"
   ]
  },
  {
   "cell_type": "markdown",
   "metadata": {},
   "source": [
    "We can see that most of the low speeds occur in the rush hours (eg. from 6am - 8am) which is reasonable"
   ]
  },
  {
   "cell_type": "markdown",
   "metadata": {},
   "source": [
    "However for speeds < 3 mph, it starts to be unreasonable taken into account extreme traffic conditions in the rush hours of NYC. For instance, it took nearly 1 hour for a trip distance of 2.2 miles."
   ]
  },
  {
   "cell_type": "markdown",
   "metadata": {},
   "source": [
    "Therefore, we would still keep instances where speed > 3 mph because we would like to capture the data in rush hours. However we will discard instances where speed < 3 mph"
   ]
  },
  {
   "cell_type": "code",
   "execution_count": 38,
   "metadata": {},
   "outputs": [
    {
     "data": {
      "image/png": "[encoded data removed]",
      "text/plain": [
       "<Figure size 640x480 with 1 Axes>"
      ]
     },
     "metadata": {},
     "output_type": "display_data"
    }
   ],
   "source": [
    "# Visualise speed after removing outliers\n",
    "filtered_sample = sampled_df[(sampled_df['speed'] >= 3) & (sampled_df['speed'] <= train_upper)]\n",
    "get_histogram(filtered_sample, 'speed', 'Speed (mph)', 'Density Histogram of Speed after Removing Outliers')"
   ]
  },
  {
   "cell_type": "markdown",
   "metadata": {},
   "source": [
    "This plot is saved under ../plots/histogram_speed_after.png"
   ]
  },
  {
   "cell_type": "markdown",
   "metadata": {},
   "source": [
    "> Visualise the distribution of trip duration"
   ]
  },
  {
   "cell_type": "code",
   "execution_count": 39,
   "metadata": {},
   "outputs": [
    {
     "data": {
      "image/png": "[encoded data removed]",
      "text/plain": [
       "<Figure size 640x480 with 1 Axes>"
      ]
     },
     "metadata": {},
     "output_type": "display_data"
    }
   ],
   "source": [
    "get_histogram(filtered_sample, 'trip_duration', 'Trip duration (mins)', 'Density Histogram of Trip duration')"
   ]
  },
  {
   "cell_type": "markdown",
   "metadata": {},
   "source": [
    "This plot is saved under ../plots/histogram_trip_duration.png"
   ]
  },
  {
   "cell_type": "markdown",
   "metadata": {},
   "source": [
    "We can see that distribution of trip duration is very right skewed. Therefore we can apply a log transformation on trip duration to normalize the distribution of this."
   ]
  },
  {
   "cell_type": "code",
   "execution_count": 45,
   "metadata": {},
   "outputs": [
    {
     "name": "stderr",
     "output_type": "stream",
     "text": [
      "/tmp/ipykernel_664251/3790700565.py:2: SettingWithCopyWarning: \n",
      "A value is trying to be set on a copy of a slice from a DataFrame.\n",
      "Try using .loc[row_indexer,col_indexer] = value instead\n",
      "\n",
      "See the caveats in the documentation: https://pandas.pydata.org/pandas-docs/stable/user_guide/indexing.html#returning-a-view-versus-a-copy\n",
      "  filtered_sample['log_trip_duration'] = np.log(filtered_sample['trip_duration'])\n"
     ]
    },
    {
     "data": {
      "image/png": "[encoded data removed]",
      "text/plain": [
       "<Figure size 640x480 with 1 Axes>"
      ]
     },
     "metadata": {},
     "output_type": "display_data"
    }
   ],
   "source": [
    "# Apply log transformation on trip duration for visualisation\n",
    "filtered_sample['log_trip_duration'] = np.log(filtered_sample['trip_duration'])\n",
    "get_histogram(filtered_sample, 'log_trip_duration', 'log(Trip duration)', 'Density Histogram of log(Trip duration)')"
   ]
  },
  {
   "cell_type": "markdown",
   "metadata": {},
   "source": [
    "This plot is saved under ../plots/histogram_logtripduration.png"
   ]
  },
  {
   "cell_type": "markdown",
   "metadata": {},
   "source": [
    "We can see that after applying log transformation, the distribution of trip duration follows the normal distribution better."
   ]
  },
  {
   "cell_type": "markdown",
   "metadata": {},
   "source": [
    "> Remove speed outliers and apply log transformation on trip duration on the whole dataset"
   ]
  },
  {
   "cell_type": "code",
   "execution_count": 22,
   "metadata": {},
   "outputs": [],
   "source": [
    "# Filter training and testing set to remove outliers\n",
    "train_sdf = train_sdf.filter(F.col('speed').between(3, train_upper))\n",
    "test_sdf = test_sdf.filter(F.col('speed').between(3, test_upper))"
   ]
  },
  {
   "cell_type": "code",
   "execution_count": 24,
   "metadata": {},
   "outputs": [
    {
     "name": "stderr",
     "output_type": "stream",
     "text": [
      "                                                                                \r"
     ]
    },
    {
     "name": "stdout",
     "output_type": "stream",
     "text": [
      "Number of remaining instances in train set 14593487\n"
     ]
    },
    {
     "name": "stderr",
     "output_type": "stream",
     "text": [
      "[Stage 71:====================================>                     (5 + 3) / 8]\r"
     ]
    },
    {
     "name": "stdout",
     "output_type": "stream",
     "text": [
      "Number of remaining instances in test set 8057911\n"
     ]
    },
    {
     "name": "stderr",
     "output_type": "stream",
     "text": [
      "                                                                                \r"
     ]
    }
   ],
   "source": [
    "print(\"Number of remaining instances in train set\", train_sdf.count())\n",
    "print(\"Number of remaining instances in test set\", test_sdf.count())"
   ]
  },
  {
   "cell_type": "code",
   "execution_count": 64,
   "metadata": {},
   "outputs": [],
   "source": [
    "# Apply log transformation on trip duration in training and testing set\n",
    "train_sdf = train_sdf.withColumn(\"log_trip_duration\", log(\"trip_duration\"))\n",
    "test_sdf = test_sdf.withColumn(\"log_trip_duration\", log(\"trip_duration\"))"
   ]
  },
  {
   "cell_type": "markdown",
   "metadata": {},
   "source": [
    "> Flag weekend"
   ]
  },
  {
   "cell_type": "markdown",
   "metadata": {},
   "source": [
    "We flag a day as weekend if it is a Saturday or Sunday"
   ]
  },
  {
   "cell_type": "code",
   "execution_count": 65,
   "metadata": {},
   "outputs": [],
   "source": [
    "# Flag weekend for train set\n",
    "train_sdf = flag_weekend(train_sdf)     #function from preprocess.py"
   ]
  },
  {
   "cell_type": "code",
   "execution_count": 66,
   "metadata": {},
   "outputs": [],
   "source": [
    "# Flag weekend for test set\n",
    "test_sdf = flag_weekend(test_sdf)   #function from preprocess.py"
   ]
  },
  {
   "cell_type": "markdown",
   "metadata": {},
   "source": [
    "> Flag public holidays"
   ]
  },
  {
   "cell_type": "markdown",
   "metadata": {},
   "source": [
    "A list of public holidays from Dec 2022 to May 2023 and from Jan 2024 to March 2024 is obtained from nyc.gov website as pdf files:"
   ]
  },
  {
   "cell_type": "markdown",
   "metadata": {},
   "source": [
    "[2022 list of holidays](https://www.nyc.gov/assets/opa/downloads/pdf/2022-list-of-holidays.pdf)"
   ]
  },
  {
   "cell_type": "markdown",
   "metadata": {},
   "source": [
    "[2023 list of holidays](https://www.nyc.gov/assets/opa/downloads/pdf/2023-list-of-holidays.pdf)"
   ]
  },
  {
   "cell_type": "markdown",
   "metadata": {},
   "source": [
    "[2024 list of holidays](https://www.nyc.gov/assets/opa/downloads/pdf/2024-list-of-holidays.pdf)"
   ]
  },
  {
   "cell_type": "markdown",
   "metadata": {},
   "source": [
    "We will categorize public holidays into 4 scales indicating how much it will affect people's lives, with 4 indicating highest effect."
   ]
  },
  {
   "cell_type": "markdown",
   "metadata": {},
   "source": [
    "For non-holidays, the scale is set to 0."
   ]
  },
  {
   "cell_type": "markdown",
   "metadata": {},
   "source": [
    "Main public holiday (e.g New Year's Day): 4"
   ]
  },
  {
   "cell_type": "markdown",
   "metadata": {},
   "source": [
    "Observed main public holiday (The day before or next to the main holiday, indicated in the pdf files): 3"
   ]
  },
  {
   "cell_type": "markdown",
   "metadata": {},
   "source": [
    "Floating holiday (Only for eligible employees): 2"
   ]
  },
  {
   "cell_type": "markdown",
   "metadata": {},
   "source": [
    "Observed floating holiday: 1"
   ]
  },
  {
   "cell_type": "code",
   "execution_count": 67,
   "metadata": {},
   "outputs": [],
   "source": [
    "# Public holidays from Dec 2022 to May 2023 for training set\n",
    "train_holidays = {\n",
    "    '2022-12-25': 4,  # Christmas Day\n",
    "    '2022-12-26': 3,  # Christmas Day (observed)\n",
    "    '2023-01-01': 4,  # New Year's Day\n",
    "    '2023-01-02': 3,  # New Year's Day (observed)\n",
    "    '2023-01-16': 4,  # Martin Luther King Jr. Day\n",
    "    '2023-02-12': 2,  # Lincoln's Birthday (floating holiday)\n",
    "    '2023-02-13': 1,  # Lincoln's Birthday (observed)\n",
    "    '2023-02-20': 4,  # Presidents' Day\n",
    "    '2023-05-29': 4,  # Memorial Day\n",
    "}\n",
    "\n",
    "# Convert the dictionary of holidays to a broadcast variable for efficient lookup\n",
    "train_broadcast = spark.sparkContext.broadcast(train_holidays)"
   ]
  },
  {
   "cell_type": "code",
   "execution_count": 68,
   "metadata": {},
   "outputs": [],
   "source": [
    "# Public holidays from Jan 2024 to March 2024 for testing set\n",
    "test_holidays = {\n",
    "    '2024-01-01': 4,  # New Year's Day\n",
    "    '2024-01-02': 3,  # New Year's Day (observed)\n",
    "    '2024-01-15': 4,  # Martin Luther King Jr. Day\n",
    "    '2024-02-12': 2,  # Lincoln's Birthday (floating holiday)\n",
    "    '2024-02-13': 1,  # Lincoln's Birthday (observed)\n",
    "    '2024-02-19': 4,  # Presidents' Day\n",
    "}\n",
    "\n",
    "# Convert the dictionary of holidays to a broadcast variable for efficient lookup\n",
    "test_broadcast = spark.sparkContext.broadcast(test_holidays)"
   ]
  },
  {
   "cell_type": "code",
   "execution_count": 69,
   "metadata": {},
   "outputs": [],
   "source": [
    "# Flag public holidays and scale in training and testing dataset\n",
    "train_sdf = flag_holiday(train_sdf, train_broadcast)     # function from preprocess.py\n",
    "test_sdf = flag_holiday(test_sdf, test_broadcast)     # function from preprocess.py"
   ]
  },
  {
   "cell_type": "code",
   "execution_count": 70,
   "metadata": {},
   "outputs": [
    {
     "name": "stderr",
     "output_type": "stream",
     "text": [
      "                                                                                \r"
     ]
    },
    {
     "data": {
      "text/html": [
       "<table border='1'>\n",
       "<tr><th>tpep_pickup_datetime</th><th>tpep_dropoff_datetime</th><th>trip_distance</th><th>pulocationid</th><th>dolocationid</th><th>trip_duration</th><th>speed</th><th>log_trip_duration</th><th>is_weekend</th><th>is_holiday</th><th>holiday_scale</th></tr>\n",
       "<tr><td>2022-12-01 00:37:35</td><td>2022-12-01 00:47:35</td><td>2.0</td><td>170</td><td>237</td><td>10.0</td><td>12.0</td><td>2.302585092994046</td><td>false</td><td>false</td><td>0</td></tr>\n",
       "<tr><td>2022-12-01 00:34:35</td><td>2022-12-01 00:55:21</td><td>8.4</td><td>138</td><td>141</td><td>20.766666666666666</td><td>24.269662921348317</td><td>3.0333491371252976</td><td>false</td><td>false</td><td>0</td></tr>\n",
       "<tr><td>2022-12-01 00:45:51</td><td>2022-12-01 00:53:16</td><td>3.0</td><td>141</td><td>79</td><td>7.416666666666667</td><td>24.269662921348313</td><td>2.0037297199441397</td><td>false</td><td>false</td><td>0</td></tr>\n",
       "<tr><td>2022-12-01 00:25:25</td><td>2022-12-01 00:35:38</td><td>2.6</td><td>237</td><td>164</td><td>10.216666666666667</td><td>15.269168026101143</td><td>2.3240203737141107</td><td>false</td><td>false</td><td>0</td></tr>\n",
       "<tr><td>2022-12-01 00:20:12</td><td>2022-12-01 00:28:49</td><td>2.09</td><td>79</td><td>186</td><td>8.616666666666667</td><td>14.553191489361701</td><td>2.1536983122863287</td><td>false</td><td>false</td><td>0</td></tr>\n",
       "</table>\n"
      ],
      "text/plain": [
       "+--------------------+---------------------+-------------+------------+------------+------------------+------------------+------------------+----------+----------+-------------+\n",
       "|tpep_pickup_datetime|tpep_dropoff_datetime|trip_distance|pulocationid|dolocationid|     trip_duration|             speed| log_trip_duration|is_weekend|is_holiday|holiday_scale|\n",
       "+--------------------+---------------------+-------------+------------+------------+------------------+------------------+------------------+----------+----------+-------------+\n",
       "| 2022-12-01 00:37:35|  2022-12-01 00:47:35|          2.0|         170|         237|              10.0|              12.0| 2.302585092994046|     false|     false|            0|\n",
       "| 2022-12-01 00:34:35|  2022-12-01 00:55:21|          8.4|         138|         141|20.766666666666666|24.269662921348317|3.0333491371252976|     false|     false|            0|\n",
       "| 2022-12-01 00:45:51|  2022-12-01 00:53:16|          3.0|         141|          79| 7.416666666666667|24.269662921348313|2.0037297199441397|     false|     false|            0|\n",
       "| 2022-12-01 00:25:25|  2022-12-01 00:35:38|          2.6|         237|         164|10.216666666666667|15.269168026101143|2.3240203737141107|     false|     false|            0|\n",
       "| 2022-12-01 00:20:12|  2022-12-01 00:28:49|         2.09|          79|         186| 8.616666666666667|14.553191489361701|2.1536983122863287|     false|     false|            0|\n",
       "+--------------------+---------------------+-------------+------------+------------+------------------+------------------+------------------+----------+----------+-------------+"
      ]
     },
     "execution_count": 70,
     "metadata": {},
     "output_type": "execute_result"
    }
   ],
   "source": [
    "# Show the final datasets\n",
    "train_sdf.limit(5)"
   ]
  },
  {
   "cell_type": "code",
   "execution_count": 71,
   "metadata": {},
   "outputs": [
    {
     "data": {
      "text/html": [
       "<table border='1'>\n",
       "<tr><th>tpep_pickup_datetime</th><th>tpep_dropoff_datetime</th><th>trip_distance</th><th>pulocationid</th><th>dolocationid</th><th>trip_duration</th><th>speed</th><th>log_trip_duration</th><th>is_weekend</th><th>is_holiday</th><th>holiday_scale</th></tr>\n",
       "<tr><td>2024-01-01 00:57:55</td><td>2024-01-01 01:17:43</td><td>1.72</td><td>186</td><td>79</td><td>19.8</td><td>5.212121212121212</td><td>2.9856819377004897</td><td>false</td><td>true</td><td>4</td></tr>\n",
       "<tr><td>2024-01-01 00:03:00</td><td>2024-01-01 00:09:36</td><td>1.8</td><td>140</td><td>236</td><td>6.6</td><td>16.363636363636363</td><td>1.8870696490323797</td><td>false</td><td>true</td><td>4</td></tr>\n",
       "<tr><td>2024-01-01 00:17:06</td><td>2024-01-01 00:35:01</td><td>4.7</td><td>236</td><td>79</td><td>17.916666666666668</td><td>15.739534883720932</td><td>2.8857313783396625</td><td>false</td><td>true</td><td>4</td></tr>\n",
       "<tr><td>2024-01-01 00:36:38</td><td>2024-01-01 00:44:56</td><td>1.4</td><td>79</td><td>211</td><td>8.3</td><td>10.120481927710843</td><td>2.1162555148025524</td><td>false</td><td>true</td><td>4</td></tr>\n",
       "<tr><td>2024-01-01 00:54:08</td><td>2024-01-01 01:26:31</td><td>4.7</td><td>148</td><td>141</td><td>32.38333333333333</td><td>8.708183221821926</td><td>3.4776438871553395</td><td>false</td><td>true</td><td>4</td></tr>\n",
       "</table>\n"
      ],
      "text/plain": [
       "+--------------------+---------------------+-------------+------------+------------+------------------+------------------+------------------+----------+----------+-------------+\n",
       "|tpep_pickup_datetime|tpep_dropoff_datetime|trip_distance|pulocationid|dolocationid|     trip_duration|             speed| log_trip_duration|is_weekend|is_holiday|holiday_scale|\n",
       "+--------------------+---------------------+-------------+------------+------------+------------------+------------------+------------------+----------+----------+-------------+\n",
       "| 2024-01-01 00:57:55|  2024-01-01 01:17:43|         1.72|         186|          79|              19.8| 5.212121212121212|2.9856819377004897|     false|      true|            4|\n",
       "| 2024-01-01 00:03:00|  2024-01-01 00:09:36|          1.8|         140|         236|               6.6|16.363636363636363|1.8870696490323797|     false|      true|            4|\n",
       "| 2024-01-01 00:17:06|  2024-01-01 00:35:01|          4.7|         236|          79|17.916666666666668|15.739534883720932|2.8857313783396625|     false|      true|            4|\n",
       "| 2024-01-01 00:36:38|  2024-01-01 00:44:56|          1.4|          79|         211|               8.3|10.120481927710843|2.1162555148025524|     false|      true|            4|\n",
       "| 2024-01-01 00:54:08|  2024-01-01 01:26:31|          4.7|         148|         141| 32.38333333333333| 8.708183221821926|3.4776438871553395|     false|      true|            4|\n",
       "+--------------------+---------------------+-------------+------------+------------+------------------+------------------+------------------+----------+----------+-------------+"
      ]
     },
     "execution_count": 71,
     "metadata": {},
     "output_type": "execute_result"
    }
   ],
   "source": [
    "test_sdf.limit(5)"
   ]
  },
  {
   "cell_type": "markdown",
   "metadata": {},
   "source": [
    "> Save cleaned datasets"
   ]
  },
  {
   "cell_type": "markdown",
   "metadata": {},
   "source": [
    "Save the cleaned and filtered training and testing datasets into the Curated layer"
   ]
  },
  {
   "cell_type": "code",
   "execution_count": 72,
   "metadata": {},
   "outputs": [
    {
     "name": "stderr",
     "output_type": "stream",
     "text": [
      "                                                                                \r"
     ]
    }
   ],
   "source": [
    "# Save training set\n",
    "train_sdf \\\n",
    "    .coalesce(1) \\\n",
    "    .write \\\n",
    "    .mode('overwrite') \\\n",
    "    .parquet('../data/curated/cleaned_train.parquet')"
   ]
  },
  {
   "cell_type": "markdown",
   "metadata": {},
   "source": [
    "Randomly choose 30 days for testing data and save to Curated layer"
   ]
  },
  {
   "cell_type": "code",
   "execution_count": 73,
   "metadata": {},
   "outputs": [
    {
     "name": "stderr",
     "output_type": "stream",
     "text": [
      "                                                                                \r"
     ]
    }
   ],
   "source": [
    "# Extract the date for each instance\n",
    "test_sdf = test_sdf.withColumn('date', F.to_date(F.col('tpep_pickup_datetime')))\n",
    "\n",
    "# Get a list of unique dates\n",
    "unique_dates = test_sdf.select('date').distinct().collect()\n",
    "\n",
    "# Randomly select 30 unique dates\n",
    "random_dates = random.sample([row['date'] for row in unique_dates], 30)\n",
    "\n",
    "# Filter the DataFrame to include only rows with the selected dates\n",
    "filtered_df = test_sdf.filter(F.col('date').isin(random_dates))"
   ]
  },
  {
   "cell_type": "code",
   "execution_count": 74,
   "metadata": {},
   "outputs": [
    {
     "name": "stdout",
     "output_type": "stream",
     "text": [
      "Randomly Selected 30 Days:\n",
      "2024-02-26\n",
      "2024-02-04\n",
      "2024-03-24\n",
      "2024-02-27\n",
      "2024-02-07\n",
      "2024-02-09\n",
      "2024-03-01\n",
      "2024-01-18\n",
      "2024-02-01\n",
      "2024-03-29\n",
      "2024-02-08\n",
      "2024-01-14\n",
      "2024-02-25\n",
      "2024-01-21\n",
      "2024-03-18\n",
      "2024-03-04\n",
      "2024-02-18\n",
      "2024-01-03\n",
      "2024-02-16\n",
      "2024-02-02\n",
      "2024-02-14\n",
      "2024-03-19\n",
      "2024-01-06\n",
      "2024-02-03\n",
      "2024-03-13\n",
      "2024-01-07\n",
      "2024-01-23\n",
      "2024-01-31\n",
      "2024-01-01\n",
      "2024-03-30\n"
     ]
    }
   ],
   "source": [
    "print(\"Randomly Selected 30 Days:\")\n",
    "for date in random_dates:\n",
    "    print(date)"
   ]
  },
  {
   "cell_type": "code",
   "execution_count": 75,
   "metadata": {},
   "outputs": [
    {
     "name": "stderr",
     "output_type": "stream",
     "text": [
      "                                                                                \r"
     ]
    }
   ],
   "source": [
    "# Save the randomly chosen testing set\n",
    "filtered_df \\\n",
    "    .coalesce(1) \\\n",
    "    .write \\\n",
    "    .mode('overwrite') \\\n",
    "    .parquet('../data/curated/cleaned_test.parquet')"
   ]
  }
 ],
 "metadata": {
  "kernelspec": {
   "display_name": "Python 3",
   "language": "python",
   "name": "python3"
  },
  "language_info": {
   "codemirror_mode": {
    "name": "ipython",
    "version": 3
   },
   "file_extension": ".py",
   "mimetype": "text/x-python",
   "name": "python",
   "nbconvert_exporter": "python",
   "pygments_lexer": "ipython3",
   "version": "3.10.12"
  }
 },
 "nbformat": 4,
 "nbformat_minor": 2
}
