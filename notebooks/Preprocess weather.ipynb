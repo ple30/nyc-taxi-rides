{
 "cells": [
  {
   "cell_type": "markdown",
   "metadata": {},
   "source": [
    "> ## Download and Preprocess Weather data"
   ]
  },
  {
   "cell_type": "markdown",
   "metadata": {},
   "source": [
    "We will download the hourly weather datasets in New York City in training and testing periods through Visual Crossing Corporation"
   ]
  },
  {
   "cell_type": "markdown",
   "metadata": {},
   "source": [
    "Link to download: [Weather dataset for training](https://weather.visualcrossing.com/VisualCrossingWebServices/rest/services/retrievebulkdataset?&key=JA3CCWYXBJX45H9RVREF562LW&taskId=b97034cf0db66fc29b340c0f8ccfa6a7&zip=false)"
   ]
  },
  {
   "cell_type": "markdown",
   "metadata": {},
   "source": [
    "[Weather dataset for testing](https://weather.visualcrossing.com/VisualCrossingWebServices/rest/services/retrievebulkdataset?&key=JA3CCWYXBJX45H9RVREF562LW&taskId=86f0f4cffd8ebd6e913d6e20c46bf1cd&zip=false)"
   ]
  },
  {
   "cell_type": "markdown",
   "metadata": {},
   "source": [
    "Then we will select relevant weather features that might affect road conditions and perform basic preprocessing steps on the weather datasets"
   ]
  },
  {
   "cell_type": "markdown",
   "metadata": {},
   "source": [
    "> Import libraries and functions"
   ]
  },
  {
   "cell_type": "code",
   "execution_count": 18,
   "metadata": {},
   "outputs": [],
   "source": [
    "%run ../scripts/'download fix schema.py'\n",
    "%run ../scripts/'preprocess.py'\n",
    "from pyspark.sql import SparkSession,  functions as F"
   ]
  },
  {
   "cell_type": "code",
   "execution_count": 2,
   "metadata": {},
   "outputs": [
    {
     "name": "stderr",
     "output_type": "stream",
     "text": [
      "your 131072x1 screen size is bogus. expect trouble\n",
      "24/08/25 11:44:26 WARN Utils: Your hostname, LAPTOP-LVDQD9N6 resolves to a loopback address: 127.0.1.1; using 10.255.255.254 instead (on interface lo)\n",
      "24/08/25 11:44:26 WARN Utils: Set SPARK_LOCAL_IP if you need to bind to another address\n",
      "Setting default log level to \"WARN\".\n",
      "To adjust logging level use sc.setLogLevel(newLevel). For SparkR, use setLogLevel(newLevel).\n",
      "24/08/25 11:44:27 WARN NativeCodeLoader: Unable to load native-hadoop library for your platform... using builtin-java classes where applicable\n"
     ]
    }
   ],
   "source": [
    "# Create a spark session (which will run spark jobs)\n",
    "spark = (\n",
    "    SparkSession.builder.appName(\"Weather\")\n",
    "    .config(\"spark.sql.repl.eagerEval.enabled\", True)\n",
    "    .config(\"spark.sql.parquet.cacheMetadata\", \"true\")\n",
    "    .config(\"spark.sql.session.timeZone\", \"Etc/UTC\")\n",
    "    .getOrCreate()\n",
    ")"
   ]
  },
  {
   "cell_type": "markdown",
   "metadata": {},
   "source": [
    "> Download weather datasets"
   ]
  },
  {
   "cell_type": "code",
   "execution_count": 14,
   "metadata": {},
   "outputs": [],
   "source": [
    "# Download weather dataset from Dec 2022 to May 2023 for training data\n",
    "download_weather('train')"
   ]
  },
  {
   "cell_type": "code",
   "execution_count": 15,
   "metadata": {},
   "outputs": [],
   "source": [
    "# Download weather dataset from Jan 2024 to March 2024 for testing data\n",
    "download_weather('test')"
   ]
  },
  {
   "cell_type": "markdown",
   "metadata": {},
   "source": [
    "> Read weather datasets"
   ]
  },
  {
   "cell_type": "code",
   "execution_count": 13,
   "metadata": {},
   "outputs": [
    {
     "name": "stdout",
     "output_type": "stream",
     "text": [
      "+-------------------+----+----+---------+--------+---------+----------+----------------+-----------------+\n",
      "|           datetime|temp|snow|snowdepth|windgust|windspeed|visibility|      conditions|             icon|\n",
      "+-------------------+----+----+---------+--------+---------+----------+----------------+-----------------+\n",
      "|2022-12-01 00:00:00| 5.2| 0.0|      0.0|    42.9|     24.8|      16.0|           Clear|      clear-night|\n",
      "|2022-12-01 01:00:00| 4.5| 0.0|      0.0|    40.8|     26.4|      16.0|        Overcast|           cloudy|\n",
      "|2022-12-01 02:00:00| 3.6| 0.0|      0.0|    36.3|     21.3|      16.0|           Clear|      clear-night|\n",
      "|2022-12-01 03:00:00| 3.1| 0.0|      0.0|    34.5|     18.2|      16.0|           Clear|      clear-night|\n",
      "|2022-12-01 04:00:00| 3.0| 0.0|      0.0|    37.8|     18.7|      16.0|           Clear|      clear-night|\n",
      "|2022-12-01 05:00:00| 3.0| 0.0|      0.0|    38.8|     17.6|      16.0|           Clear|      clear-night|\n",
      "|2022-12-01 06:00:00| 3.0| 0.0|      0.0|    44.3|     33.5|      16.0|           Clear|      clear-night|\n",
      "|2022-12-01 07:00:00| 2.5| 0.0|      0.0|    39.2|     11.5|      16.0|           Clear|      clear-night|\n",
      "|2022-12-01 08:00:00| 3.0| 0.0|      0.0|    35.3|     11.5|      16.0|Partially cloudy|partly-cloudy-day|\n",
      "|2022-12-01 09:00:00| 3.4| 0.0|      0.0|    38.9|      6.5|      16.0|        Overcast|           cloudy|\n",
      "|2022-12-01 10:00:00| 4.2| 0.0|      0.0|    46.8|     15.5|      16.0|        Overcast|           cloudy|\n",
      "|2022-12-01 11:00:00| 5.0| 0.0|      0.0|    35.3|     24.1|      16.0|        Overcast|           cloudy|\n",
      "|2022-12-01 12:00:00| 4.5| 0.0|      0.0|    45.6|     27.6|      16.0|Partially cloudy|partly-cloudy-day|\n",
      "|2022-12-01 13:00:00| 5.2| 0.0|      0.0|    53.6|     40.7|      16.0|Partially cloudy|partly-cloudy-day|\n",
      "|2022-12-01 14:00:00| 5.8| 0.0|      0.0|    39.2|     23.5|      16.0|           Clear|        clear-day|\n",
      "|2022-12-01 15:00:00| 5.8| 0.0|      0.0|    35.5|     21.7|      16.0|           Clear|        clear-day|\n",
      "|2022-12-01 16:00:00| 5.9| 0.0|      0.0|    46.3|     20.4|      16.0|           Clear|        clear-day|\n",
      "|2022-12-01 17:00:00| 5.3| 0.0|      0.0|    51.8|     19.8|      16.0|           Clear|      clear-night|\n",
      "|2022-12-01 18:00:00| 5.2| 0.0|      0.0|    44.6|     14.8|      16.0|           Clear|      clear-night|\n",
      "|2022-12-01 19:00:00| 4.5| 0.0|      0.0|    38.9|     16.4|      16.0|           Clear|      clear-night|\n",
      "+-------------------+----+----+---------+--------+---------+----------+----------------+-----------------+\n",
      "only showing top 20 rows\n",
      "\n"
     ]
    }
   ],
   "source": [
    "# Read weather for training set\n",
    "train_weather = spark.read.csv(\"../data/landing/train_weather.csv\", header=True, inferSchema=True)\n",
    "train_weather.show()"
   ]
  },
  {
   "cell_type": "code",
   "execution_count": 14,
   "metadata": {},
   "outputs": [
    {
     "name": "stdout",
     "output_type": "stream",
     "text": [
      "+-------------------+----+----+---------+--------+---------+----------+----------------+-------------------+\n",
      "|           datetime|temp|snow|snowdepth|windgust|windspeed|visibility|      conditions|               icon|\n",
      "+-------------------+----+----+---------+--------+---------+----------+----------------+-------------------+\n",
      "|2024-01-01 00:00:00| 5.7| 0.0|      0.0|    14.8|     14.5|      16.0|        Overcast|             cloudy|\n",
      "|2024-01-01 01:00:00| 5.7| 0.0|      0.0|    18.4|     14.5|      16.0|        Overcast|             cloudy|\n",
      "|2024-01-01 02:00:00| 5.7| 0.0|      0.0|    16.6|     11.1|      16.0|        Overcast|             cloudy|\n",
      "|2024-01-01 03:00:00| 5.0| 0.0|      0.0|    14.8|     10.7|      16.0|        Overcast|             cloudy|\n",
      "|2024-01-01 04:00:00| 5.0| 0.0|      0.0|    13.0|      7.5|      16.0|        Overcast|             cloudy|\n",
      "|2024-01-01 05:00:00| 5.0| 0.0|      0.0|     7.6|      7.2|      16.0|        Overcast|             cloudy|\n",
      "|2024-01-01 06:00:00| 5.0| 0.0|      0.0|     7.6|      7.6|      16.0|        Overcast|             cloudy|\n",
      "|2024-01-01 07:00:00| 4.3| 0.0|      0.0|     7.6|      5.5|      15.8|  Rain, Overcast|               rain|\n",
      "|2024-01-01 08:00:00| 4.9| 0.0|      0.0|     7.6|      0.3|      15.9|  Rain, Overcast|               rain|\n",
      "|2024-01-01 09:00:00| 5.0| 0.0|      0.0|     7.6|      9.2|      16.0|  Rain, Overcast|               rain|\n",
      "|2024-01-01 10:00:00| 5.6| 0.0|      0.0|     7.6|      7.5|      16.0|        Overcast|             cloudy|\n",
      "|2024-01-01 11:00:00| 6.7| 0.0|      0.0|    60.5|     17.5|      16.0|Partially cloudy|  partly-cloudy-day|\n",
      "|2024-01-01 12:00:00| 7.8| 0.0|      0.0|     9.4|      7.3|      16.0|Partially cloudy|  partly-cloudy-day|\n",
      "|2024-01-01 13:00:00| 9.2| 0.0|      0.0|    54.0|      5.4|      16.0|Partially cloudy|  partly-cloudy-day|\n",
      "|2024-01-01 14:00:00| 7.8| 0.0|      0.0|    55.4|      7.3|      16.0|        Overcast|             cloudy|\n",
      "|2024-01-01 15:00:00| 8.3| 0.0|      0.0|    13.0|      9.2|      16.0|Partially cloudy|  partly-cloudy-day|\n",
      "|2024-01-01 16:00:00| 7.8| 0.0|      0.0|    14.8|      0.4|      16.0|        Overcast|             cloudy|\n",
      "|2024-01-01 17:00:00| 7.2| 0.0|      0.0|    14.8|      5.6|      16.0|        Overcast|             cloudy|\n",
      "|2024-01-01 18:00:00| 6.7| 0.0|      0.0|    16.6|      0.5|      16.0|           Clear|        clear-night|\n",
      "|2024-01-01 19:00:00| 6.1| 0.0|      0.0|    16.6|      5.3|      16.0|Partially cloudy|partly-cloudy-night|\n",
      "+-------------------+----+----+---------+--------+---------+----------+----------------+-------------------+\n",
      "only showing top 20 rows\n",
      "\n"
     ]
    }
   ],
   "source": [
    "# Read weather for testing set\n",
    "test_weather = spark.read.csv(\"../data/landing/test_weather.csv\", header=True, inferSchema=True)\n",
    "test_weather.show()"
   ]
  },
  {
   "cell_type": "code",
   "execution_count": 5,
   "metadata": {},
   "outputs": [
    {
     "name": "stdout",
     "output_type": "stream",
     "text": [
      "Number of instances in training weather data: 4367\n",
      "Number of instances in testing weather data: 2183\n"
     ]
    }
   ],
   "source": [
    "# Count number of instances \n",
    "print(\"Number of instances in training weather data:\", train_weather.count())\n",
    "print(\"Number of instances in testing weather data:\", test_weather.count())"
   ]
  },
  {
   "cell_type": "markdown",
   "metadata": {},
   "source": [
    "> Preprocess weather datasets"
   ]
  },
  {
   "cell_type": "markdown",
   "metadata": {},
   "source": [
    "We will merge information from snow and snowdepth into one column. Then flag rainy days based on the 'conditions' column and only select relevant features that are believed to have an effect on road conditions, such as snow, wind or rain."
   ]
  },
  {
   "cell_type": "code",
   "execution_count": 15,
   "metadata": {},
   "outputs": [
    {
     "name": "stdout",
     "output_type": "stream",
     "text": [
      "+-------------------+----+---------+--------+----------+----+\n",
      "|           datetime|temp|snowdepth|windgust|visibility|rain|\n",
      "+-------------------+----+---------+--------+----------+----+\n",
      "|2022-12-01 00:00:00| 5.2|      0.0|    42.9|      16.0|   0|\n",
      "|2022-12-01 01:00:00| 4.5|      0.0|    40.8|      16.0|   0|\n",
      "|2022-12-01 02:00:00| 3.6|      0.0|    36.3|      16.0|   0|\n",
      "|2022-12-01 03:00:00| 3.1|      0.0|    34.5|      16.0|   0|\n",
      "|2022-12-01 04:00:00| 3.0|      0.0|    37.8|      16.0|   0|\n",
      "|2022-12-01 05:00:00| 3.0|      0.0|    38.8|      16.0|   0|\n",
      "|2022-12-01 06:00:00| 3.0|      0.0|    44.3|      16.0|   0|\n",
      "|2022-12-01 07:00:00| 2.5|      0.0|    39.2|      16.0|   0|\n",
      "|2022-12-01 08:00:00| 3.0|      0.0|    35.3|      16.0|   0|\n",
      "|2022-12-01 09:00:00| 3.4|      0.0|    38.9|      16.0|   0|\n",
      "|2022-12-01 10:00:00| 4.2|      0.0|    46.8|      16.0|   0|\n",
      "|2022-12-01 11:00:00| 5.0|      0.0|    35.3|      16.0|   0|\n",
      "|2022-12-01 12:00:00| 4.5|      0.0|    45.6|      16.0|   0|\n",
      "|2022-12-01 13:00:00| 5.2|      0.0|    53.6|      16.0|   0|\n",
      "|2022-12-01 14:00:00| 5.8|      0.0|    39.2|      16.0|   0|\n",
      "|2022-12-01 15:00:00| 5.8|      0.0|    35.5|      16.0|   0|\n",
      "|2022-12-01 16:00:00| 5.9|      0.0|    46.3|      16.0|   0|\n",
      "|2022-12-01 17:00:00| 5.3|      0.0|    51.8|      16.0|   0|\n",
      "|2022-12-01 18:00:00| 5.2|      0.0|    44.6|      16.0|   0|\n",
      "|2022-12-01 19:00:00| 4.5|      0.0|    38.9|      16.0|   0|\n",
      "+-------------------+----+---------+--------+----------+----+\n",
      "only showing top 20 rows\n",
      "\n"
     ]
    }
   ],
   "source": [
    "# Apply these preprocessing steps for training weather dataset\n",
    "train_weather = preprocess_weather(train_weather)\n",
    "train_weather.show()"
   ]
  },
  {
   "cell_type": "code",
   "execution_count": 16,
   "metadata": {},
   "outputs": [
    {
     "name": "stdout",
     "output_type": "stream",
     "text": [
      "+-------------------+----+---------+--------+----------+----+\n",
      "|           datetime|temp|snowdepth|windgust|visibility|rain|\n",
      "+-------------------+----+---------+--------+----------+----+\n",
      "|2024-01-01 00:00:00| 5.7|      0.0|    14.8|      16.0|   0|\n",
      "|2024-01-01 01:00:00| 5.7|      0.0|    18.4|      16.0|   0|\n",
      "|2024-01-01 02:00:00| 5.7|      0.0|    16.6|      16.0|   0|\n",
      "|2024-01-01 03:00:00| 5.0|      0.0|    14.8|      16.0|   0|\n",
      "|2024-01-01 04:00:00| 5.0|      0.0|    13.0|      16.0|   0|\n",
      "|2024-01-01 05:00:00| 5.0|      0.0|     7.6|      16.0|   0|\n",
      "|2024-01-01 06:00:00| 5.0|      0.0|     7.6|      16.0|   0|\n",
      "|2024-01-01 07:00:00| 4.3|      0.0|     7.6|      15.8|   1|\n",
      "|2024-01-01 08:00:00| 4.9|      0.0|     7.6|      15.9|   1|\n",
      "|2024-01-01 09:00:00| 5.0|      0.0|     7.6|      16.0|   1|\n",
      "|2024-01-01 10:00:00| 5.6|      0.0|     7.6|      16.0|   0|\n",
      "|2024-01-01 11:00:00| 6.7|      0.0|    60.5|      16.0|   0|\n",
      "|2024-01-01 12:00:00| 7.8|      0.0|     9.4|      16.0|   0|\n",
      "|2024-01-01 13:00:00| 9.2|      0.0|    54.0|      16.0|   0|\n",
      "|2024-01-01 14:00:00| 7.8|      0.0|    55.4|      16.0|   0|\n",
      "|2024-01-01 15:00:00| 8.3|      0.0|    13.0|      16.0|   0|\n",
      "|2024-01-01 16:00:00| 7.8|      0.0|    14.8|      16.0|   0|\n",
      "|2024-01-01 17:00:00| 7.2|      0.0|    14.8|      16.0|   0|\n",
      "|2024-01-01 18:00:00| 6.7|      0.0|    16.6|      16.0|   0|\n",
      "|2024-01-01 19:00:00| 6.1|      0.0|    16.6|      16.0|   0|\n",
      "+-------------------+----+---------+--------+----------+----+\n",
      "only showing top 20 rows\n",
      "\n"
     ]
    }
   ],
   "source": [
    "# Preprocess testing weather dataset\n",
    "test_weather = preprocess_weather(test_weather)\n",
    "test_weather.show()"
   ]
  },
  {
   "cell_type": "code",
   "execution_count": 19,
   "metadata": {},
   "outputs": [
    {
     "name": "stdout",
     "output_type": "stream",
     "text": [
      "Missing values:\n",
      "+--------+----+---------+--------+----------+----+\n",
      "|datetime|temp|snowdepth|windgust|visibility|rain|\n",
      "+--------+----+---------+--------+----------+----+\n",
      "|       0|   0|        0|       0|         0|   0|\n",
      "+--------+----+---------+--------+----------+----+\n",
      "\n",
      "datetime:\n",
      "\tLatest: 2023-06-01 09:00:00 \n",
      "\tEarliest: 2022-12-01 11:00:00\n",
      "Descriptive statistics\n",
      "+-------+-----------------+-------------------+------------------+------------------+\n",
      "|summary|             temp|          snowdepth|          windgust|        visibility|\n",
      "+-------+-----------------+-------------------+------------------+------------------+\n",
      "|  count|             4367|               4367|              4367|              4367|\n",
      "|   mean|8.823379894664528|0.04785894206549119| 26.21458667277305|14.950080146553736|\n",
      "| stddev|6.810479094407608| 0.5053668635435273|13.807370388910412|3.0179072161306997|\n",
      "|    min|            -14.2|                0.0|               2.5|               0.7|\n",
      "|    max|             31.9|                8.2|              96.1|              16.0|\n",
      "+-------+-----------------+-------------------+------------------+------------------+\n",
      "\n"
     ]
    }
   ],
   "source": [
    "# Check weather datasets after feature selection\n",
    "check_weather_data(train_weather)"
   ]
  },
  {
   "cell_type": "code",
   "execution_count": 20,
   "metadata": {},
   "outputs": [
    {
     "name": "stdout",
     "output_type": "stream",
     "text": [
      "Missing values:\n",
      "+--------+----+---------+--------+----------+----+\n",
      "|datetime|temp|snowdepth|windgust|visibility|rain|\n",
      "+--------+----+---------+--------+----------+----+\n",
      "|       1|   1|        1|       1|         1|   0|\n",
      "+--------+----+---------+--------+----------+----+\n",
      "\n",
      "datetime:\n",
      "\tLatest: 2024-04-01 10:00:00 \n",
      "\tEarliest: 2024-01-01 11:00:00\n",
      "Descriptive statistics\n",
      "+-------+-----------------+------------------+------------------+------------------+\n",
      "|summary|             temp|         snowdepth|          windgust|        visibility|\n",
      "+-------+-----------------+------------------+------------------+------------------+\n",
      "|  count|             2183|              2183|              2183|              2183|\n",
      "|   mean|5.300229042601909|0.5775080164910672|28.600137425561154|14.871598717361437|\n",
      "| stddev|4.555539223777588|1.9437914564630978| 15.61965127456251| 3.028414104646071|\n",
      "|    min|             -7.2|               0.0|               3.6|               0.6|\n",
      "|    max|             22.2|              16.3|             107.4|              16.0|\n",
      "+-------+-----------------+------------------+------------------+------------------+\n",
      "\n"
     ]
    }
   ],
   "source": [
    "check_weather_data(test_weather)"
   ]
  },
  {
   "cell_type": "markdown",
   "metadata": {},
   "source": [
    "We detect one row in testing weather dataset with missing value. Because this is a very small instance in this dataset, we decide the remove this row. Both training and testing weather dataset is filtered to be within the correct timeframe."
   ]
  },
  {
   "cell_type": "code",
   "execution_count": 21,
   "metadata": {},
   "outputs": [],
   "source": [
    "# Filter and remove missing values\n",
    "train_weather = filter_weather('train', train_weather)\n",
    "test_weather = filter_weather('test', test_weather)"
   ]
  },
  {
   "cell_type": "markdown",
   "metadata": {},
   "source": [
    "> Save processed weather datasets"
   ]
  },
  {
   "cell_type": "code",
   "execution_count": 23,
   "metadata": {},
   "outputs": [
    {
     "name": "stderr",
     "output_type": "stream",
     "text": [
      "                                                                                \r"
     ]
    }
   ],
   "source": [
    "# Save processed training weather dataset as parquet in the curated layer\n",
    "train_weather \\\n",
    "    .coalesce(1) \\\n",
    "    .write \\\n",
    "    .mode('overwrite') \\\n",
    "    .parquet('../data/curated/train_weather.parquet')"
   ]
  },
  {
   "cell_type": "code",
   "execution_count": 24,
   "metadata": {},
   "outputs": [],
   "source": [
    "# Save processed testing weather dataset as parquet in the curated layer\n",
    "test_weather \\\n",
    "    .coalesce(1) \\\n",
    "    .write \\\n",
    "    .mode('overwrite') \\\n",
    "    .parquet('../data/curated/test_weather.parquet')"
   ]
  }
 ],
 "metadata": {
  "kernelspec": {
   "display_name": "Python 3",
   "language": "python",
   "name": "python3"
  },
  "language_info": {
   "codemirror_mode": {
    "name": "ipython",
    "version": 3
   },
   "file_extension": ".py",
   "mimetype": "text/x-python",
   "name": "python",
   "nbconvert_exporter": "python",
   "pygments_lexer": "ipython3",
   "version": "3.10.12"
  }
 },
 "nbformat": 4,
 "nbformat_minor": 2
}
